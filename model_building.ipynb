{
 "cells": [
  {
   "cell_type": "code",
   "execution_count": 49,
   "id": "daf66e8d",
   "metadata": {},
   "outputs": [],
   "source": [
    "import numpy as np\n",
    "import pandas as pd\n",
    "import matplotlib.pyplot as plt\n",
    "from sklearn.model_selection import train_test_split\n",
    "from sklearn.linear_model import LinearRegression\n",
    "from sklearn.model_selection import cross_val_score\n",
    "from sklearn.linear_model import Lasso\n",
    "from sklearn.ensemble import RandomForestRegressor\n",
    "from sklearn.model_selection import GridSearchCV\n",
    "from sklearn.metrics import mean_absolute_error"
   ]
  },
  {
   "cell_type": "code",
   "execution_count": 2,
   "id": "a47f9237",
   "metadata": {},
   "outputs": [
    {
     "data": {
      "text/html": [
       "<div>\n",
       "<style scoped>\n",
       "    .dataframe tbody tr th:only-of-type {\n",
       "        vertical-align: middle;\n",
       "    }\n",
       "\n",
       "    .dataframe tbody tr th {\n",
       "        vertical-align: top;\n",
       "    }\n",
       "\n",
       "    .dataframe thead th {\n",
       "        text-align: right;\n",
       "    }\n",
       "</style>\n",
       "<table border=\"1\" class=\"dataframe\">\n",
       "  <thead>\n",
       "    <tr style=\"text-align: right;\">\n",
       "      <th></th>\n",
       "      <th>Job Title</th>\n",
       "      <th>Salary Estimate</th>\n",
       "      <th>Job Description</th>\n",
       "      <th>Rating</th>\n",
       "      <th>Company Name</th>\n",
       "      <th>Location</th>\n",
       "      <th>Headquarters</th>\n",
       "      <th>Size</th>\n",
       "      <th>Founded</th>\n",
       "      <th>Type of ownership</th>\n",
       "      <th>...</th>\n",
       "      <th>R</th>\n",
       "      <th>aws</th>\n",
       "      <th>spark</th>\n",
       "      <th>excel</th>\n",
       "      <th>Average_Revenue (million $)</th>\n",
       "      <th>Average_company_size</th>\n",
       "      <th>Job_title</th>\n",
       "      <th>seniority</th>\n",
       "      <th>No. of Competitors</th>\n",
       "      <th>dec_len</th>\n",
       "    </tr>\n",
       "  </thead>\n",
       "  <tbody>\n",
       "    <tr>\n",
       "      <th>0</th>\n",
       "      <td>Data Scientist</td>\n",
       "      <td>$53K-$91K (Glassdoor est.)</td>\n",
       "      <td>Data Scientist\\nLocation: Albuquerque, NM\\nEdu...</td>\n",
       "      <td>3.8</td>\n",
       "      <td>Tecolote Research</td>\n",
       "      <td>Albuquerque, NM</td>\n",
       "      <td>Goleta, CA</td>\n",
       "      <td>501 to 1000 employees</td>\n",
       "      <td>1973</td>\n",
       "      <td>Private</td>\n",
       "      <td>...</td>\n",
       "      <td>0</td>\n",
       "      <td>0</td>\n",
       "      <td>0</td>\n",
       "      <td>1</td>\n",
       "      <td>75.0</td>\n",
       "      <td>750</td>\n",
       "      <td>Data Scientist</td>\n",
       "      <td>NaN</td>\n",
       "      <td>0</td>\n",
       "      <td>2536</td>\n",
       "    </tr>\n",
       "    <tr>\n",
       "      <th>1</th>\n",
       "      <td>Healthcare Data Scientist</td>\n",
       "      <td>$63K-$112K (Glassdoor est.)</td>\n",
       "      <td>What You Will Do:\\n\\nI. General Summary\\n\\nThe...</td>\n",
       "      <td>3.4</td>\n",
       "      <td>University of Maryland Medical System</td>\n",
       "      <td>Linthicum, MD</td>\n",
       "      <td>Baltimore, MD</td>\n",
       "      <td>10000+ employees</td>\n",
       "      <td>1984</td>\n",
       "      <td>Other</td>\n",
       "      <td>...</td>\n",
       "      <td>0</td>\n",
       "      <td>0</td>\n",
       "      <td>0</td>\n",
       "      <td>0</td>\n",
       "      <td>3500.0</td>\n",
       "      <td>10000</td>\n",
       "      <td>Data Scientist</td>\n",
       "      <td>NaN</td>\n",
       "      <td>0</td>\n",
       "      <td>4783</td>\n",
       "    </tr>\n",
       "    <tr>\n",
       "      <th>2</th>\n",
       "      <td>Data Scientist</td>\n",
       "      <td>$80K-$90K (Glassdoor est.)</td>\n",
       "      <td>KnowBe4, Inc. is a high growth information sec...</td>\n",
       "      <td>4.8</td>\n",
       "      <td>KnowBe4</td>\n",
       "      <td>Clearwater, FL</td>\n",
       "      <td>Clearwater, FL</td>\n",
       "      <td>501 to 1000 employees</td>\n",
       "      <td>2010</td>\n",
       "      <td>Private</td>\n",
       "      <td>...</td>\n",
       "      <td>0</td>\n",
       "      <td>0</td>\n",
       "      <td>1</td>\n",
       "      <td>1</td>\n",
       "      <td>300.0</td>\n",
       "      <td>750</td>\n",
       "      <td>Data Scientist</td>\n",
       "      <td>NaN</td>\n",
       "      <td>0</td>\n",
       "      <td>3461</td>\n",
       "    </tr>\n",
       "    <tr>\n",
       "      <th>3</th>\n",
       "      <td>Data Scientist</td>\n",
       "      <td>$56K-$97K (Glassdoor est.)</td>\n",
       "      <td>*Organization and Job ID**\\nJob ID: 310709\\n\\n...</td>\n",
       "      <td>3.8</td>\n",
       "      <td>PNNL</td>\n",
       "      <td>Richland, WA</td>\n",
       "      <td>Richland, WA</td>\n",
       "      <td>1001 to 5000 employees</td>\n",
       "      <td>1965</td>\n",
       "      <td>Other</td>\n",
       "      <td>...</td>\n",
       "      <td>0</td>\n",
       "      <td>0</td>\n",
       "      <td>0</td>\n",
       "      <td>0</td>\n",
       "      <td>750.0</td>\n",
       "      <td>3000</td>\n",
       "      <td>Data Scientist</td>\n",
       "      <td>NaN</td>\n",
       "      <td>3</td>\n",
       "      <td>3883</td>\n",
       "    </tr>\n",
       "    <tr>\n",
       "      <th>4</th>\n",
       "      <td>Data Scientist</td>\n",
       "      <td>$86K-$143K (Glassdoor est.)</td>\n",
       "      <td>Data Scientist\\nAffinity Solutions / Marketing...</td>\n",
       "      <td>2.9</td>\n",
       "      <td>Affinity Solutions</td>\n",
       "      <td>New York, NY</td>\n",
       "      <td>New York, NY</td>\n",
       "      <td>51 to 200 employees</td>\n",
       "      <td>1998</td>\n",
       "      <td>Private</td>\n",
       "      <td>...</td>\n",
       "      <td>0</td>\n",
       "      <td>0</td>\n",
       "      <td>0</td>\n",
       "      <td>1</td>\n",
       "      <td>1.0</td>\n",
       "      <td>125</td>\n",
       "      <td>Data Scientist</td>\n",
       "      <td>NaN</td>\n",
       "      <td>3</td>\n",
       "      <td>2728</td>\n",
       "    </tr>\n",
       "    <tr>\n",
       "      <th>...</th>\n",
       "      <td>...</td>\n",
       "      <td>...</td>\n",
       "      <td>...</td>\n",
       "      <td>...</td>\n",
       "      <td>...</td>\n",
       "      <td>...</td>\n",
       "      <td>...</td>\n",
       "      <td>...</td>\n",
       "      <td>...</td>\n",
       "      <td>...</td>\n",
       "      <td>...</td>\n",
       "      <td>...</td>\n",
       "      <td>...</td>\n",
       "      <td>...</td>\n",
       "      <td>...</td>\n",
       "      <td>...</td>\n",
       "      <td>...</td>\n",
       "      <td>...</td>\n",
       "      <td>...</td>\n",
       "      <td>...</td>\n",
       "      <td>...</td>\n",
       "    </tr>\n",
       "    <tr>\n",
       "      <th>737</th>\n",
       "      <td>Sr Scientist, Immuno-Oncology - Oncology</td>\n",
       "      <td>$58K-$111K (Glassdoor est.)</td>\n",
       "      <td>Site Name: USA - Massachusetts - Cambridge\\nPo...</td>\n",
       "      <td>3.9</td>\n",
       "      <td>GSK</td>\n",
       "      <td>Cambridge, MA</td>\n",
       "      <td>Brentford, United Kingdom</td>\n",
       "      <td>10000+ employees</td>\n",
       "      <td>1830</td>\n",
       "      <td>Public</td>\n",
       "      <td>...</td>\n",
       "      <td>0</td>\n",
       "      <td>1</td>\n",
       "      <td>0</td>\n",
       "      <td>0</td>\n",
       "      <td>10000.0</td>\n",
       "      <td>10000</td>\n",
       "      <td>Other</td>\n",
       "      <td>Senior</td>\n",
       "      <td>3</td>\n",
       "      <td>6162</td>\n",
       "    </tr>\n",
       "    <tr>\n",
       "      <th>738</th>\n",
       "      <td>Senior Data Engineer</td>\n",
       "      <td>$72K-$133K (Glassdoor est.)</td>\n",
       "      <td>THE CHALLENGE\\nEventbrite has a world-class da...</td>\n",
       "      <td>4.4</td>\n",
       "      <td>Eventbrite</td>\n",
       "      <td>Nashville, TN</td>\n",
       "      <td>San Francisco, CA</td>\n",
       "      <td>1001 to 5000 employees</td>\n",
       "      <td>2006</td>\n",
       "      <td>Public</td>\n",
       "      <td>...</td>\n",
       "      <td>0</td>\n",
       "      <td>1</td>\n",
       "      <td>1</td>\n",
       "      <td>0</td>\n",
       "      <td>300.0</td>\n",
       "      <td>3000</td>\n",
       "      <td>Data Engineer</td>\n",
       "      <td>Senior</td>\n",
       "      <td>3</td>\n",
       "      <td>6130</td>\n",
       "    </tr>\n",
       "    <tr>\n",
       "      <th>739</th>\n",
       "      <td>Project Scientist - Auton Lab, Robotics Institute</td>\n",
       "      <td>$56K-$91K (Glassdoor est.)</td>\n",
       "      <td>The Auton Lab at Carnegie Mellon University is...</td>\n",
       "      <td>2.6</td>\n",
       "      <td>Software Engineering Institute</td>\n",
       "      <td>Pittsburgh, PA</td>\n",
       "      <td>Pittsburgh, PA</td>\n",
       "      <td>501 to 1000 employees</td>\n",
       "      <td>1984</td>\n",
       "      <td>Other</td>\n",
       "      <td>...</td>\n",
       "      <td>0</td>\n",
       "      <td>0</td>\n",
       "      <td>0</td>\n",
       "      <td>1</td>\n",
       "      <td>1.0</td>\n",
       "      <td>750</td>\n",
       "      <td>Other</td>\n",
       "      <td>NaN</td>\n",
       "      <td>0</td>\n",
       "      <td>3078</td>\n",
       "    </tr>\n",
       "    <tr>\n",
       "      <th>740</th>\n",
       "      <td>Data Science Manager</td>\n",
       "      <td>$95K-$160K (Glassdoor est.)</td>\n",
       "      <td>Data Science ManagerResponsibilities:\\n\\nOvers...</td>\n",
       "      <td>3.2</td>\n",
       "      <td>Numeric, LLC</td>\n",
       "      <td>Allentown, PA</td>\n",
       "      <td>Chadds Ford, PA</td>\n",
       "      <td>1 to 50 employees</td>\n",
       "      <td>-1</td>\n",
       "      <td>Private</td>\n",
       "      <td>...</td>\n",
       "      <td>0</td>\n",
       "      <td>0</td>\n",
       "      <td>0</td>\n",
       "      <td>1</td>\n",
       "      <td>7.5</td>\n",
       "      <td>25</td>\n",
       "      <td>Manager</td>\n",
       "      <td>NaN</td>\n",
       "      <td>0</td>\n",
       "      <td>1642</td>\n",
       "    </tr>\n",
       "    <tr>\n",
       "      <th>741</th>\n",
       "      <td>Research Scientist – Security and Privacy</td>\n",
       "      <td>$61K-$126K (Glassdoor est.)</td>\n",
       "      <td>Returning Candidate? Log back in to the Career...</td>\n",
       "      <td>3.6</td>\n",
       "      <td>Riverside Research Institute</td>\n",
       "      <td>Beavercreek, OH</td>\n",
       "      <td>Arlington, VA</td>\n",
       "      <td>501 to 1000 employees</td>\n",
       "      <td>1967</td>\n",
       "      <td>Other</td>\n",
       "      <td>...</td>\n",
       "      <td>0</td>\n",
       "      <td>0</td>\n",
       "      <td>0</td>\n",
       "      <td>0</td>\n",
       "      <td>75.0</td>\n",
       "      <td>750</td>\n",
       "      <td>Other</td>\n",
       "      <td>NaN</td>\n",
       "      <td>0</td>\n",
       "      <td>3673</td>\n",
       "    </tr>\n",
       "  </tbody>\n",
       "</table>\n",
       "<p>742 rows × 29 columns</p>\n",
       "</div>"
      ],
      "text/plain": [
       "                                             Job Title  \\\n",
       "0                                       Data Scientist   \n",
       "1                            Healthcare Data Scientist   \n",
       "2                                       Data Scientist   \n",
       "3                                       Data Scientist   \n",
       "4                                       Data Scientist   \n",
       "..                                                 ...   \n",
       "737           Sr Scientist, Immuno-Oncology - Oncology   \n",
       "738                               Senior Data Engineer   \n",
       "739  Project Scientist - Auton Lab, Robotics Institute   \n",
       "740                               Data Science Manager   \n",
       "741          Research Scientist – Security and Privacy   \n",
       "\n",
       "                 Salary Estimate  \\\n",
       "0     $53K-$91K (Glassdoor est.)   \n",
       "1    $63K-$112K (Glassdoor est.)   \n",
       "2     $80K-$90K (Glassdoor est.)   \n",
       "3     $56K-$97K (Glassdoor est.)   \n",
       "4    $86K-$143K (Glassdoor est.)   \n",
       "..                           ...   \n",
       "737  $58K-$111K (Glassdoor est.)   \n",
       "738  $72K-$133K (Glassdoor est.)   \n",
       "739   $56K-$91K (Glassdoor est.)   \n",
       "740  $95K-$160K (Glassdoor est.)   \n",
       "741  $61K-$126K (Glassdoor est.)   \n",
       "\n",
       "                                       Job Description  Rating  \\\n",
       "0    Data Scientist\\nLocation: Albuquerque, NM\\nEdu...     3.8   \n",
       "1    What You Will Do:\\n\\nI. General Summary\\n\\nThe...     3.4   \n",
       "2    KnowBe4, Inc. is a high growth information sec...     4.8   \n",
       "3    *Organization and Job ID**\\nJob ID: 310709\\n\\n...     3.8   \n",
       "4    Data Scientist\\nAffinity Solutions / Marketing...     2.9   \n",
       "..                                                 ...     ...   \n",
       "737  Site Name: USA - Massachusetts - Cambridge\\nPo...     3.9   \n",
       "738  THE CHALLENGE\\nEventbrite has a world-class da...     4.4   \n",
       "739  The Auton Lab at Carnegie Mellon University is...     2.6   \n",
       "740  Data Science ManagerResponsibilities:\\n\\nOvers...     3.2   \n",
       "741  Returning Candidate? Log back in to the Career...     3.6   \n",
       "\n",
       "                              Company Name         Location  \\\n",
       "0                        Tecolote Research  Albuquerque, NM   \n",
       "1    University of Maryland Medical System    Linthicum, MD   \n",
       "2                                  KnowBe4   Clearwater, FL   \n",
       "3                                     PNNL     Richland, WA   \n",
       "4                       Affinity Solutions     New York, NY   \n",
       "..                                     ...              ...   \n",
       "737                                    GSK    Cambridge, MA   \n",
       "738                             Eventbrite    Nashville, TN   \n",
       "739         Software Engineering Institute   Pittsburgh, PA   \n",
       "740                           Numeric, LLC    Allentown, PA   \n",
       "741           Riverside Research Institute  Beavercreek, OH   \n",
       "\n",
       "                  Headquarters                    Size  Founded  \\\n",
       "0                   Goleta, CA   501 to 1000 employees     1973   \n",
       "1                Baltimore, MD        10000+ employees     1984   \n",
       "2               Clearwater, FL   501 to 1000 employees     2010   \n",
       "3                 Richland, WA  1001 to 5000 employees     1965   \n",
       "4                 New York, NY     51 to 200 employees     1998   \n",
       "..                         ...                     ...      ...   \n",
       "737  Brentford, United Kingdom        10000+ employees     1830   \n",
       "738          San Francisco, CA  1001 to 5000 employees     2006   \n",
       "739             Pittsburgh, PA   501 to 1000 employees     1984   \n",
       "740            Chadds Ford, PA       1 to 50 employees       -1   \n",
       "741              Arlington, VA   501 to 1000 employees     1967   \n",
       "\n",
       "    Type of ownership  ...  R aws spark excel  Average_Revenue (million $)  \\\n",
       "0             Private  ...  0   0     0     1                         75.0   \n",
       "1               Other  ...  0   0     0     0                       3500.0   \n",
       "2             Private  ...  0   0     1     1                        300.0   \n",
       "3               Other  ...  0   0     0     0                        750.0   \n",
       "4             Private  ...  0   0     0     1                          1.0   \n",
       "..                ...  ... ..  ..   ...   ...                          ...   \n",
       "737            Public  ...  0   1     0     0                      10000.0   \n",
       "738            Public  ...  0   1     1     0                        300.0   \n",
       "739             Other  ...  0   0     0     1                          1.0   \n",
       "740           Private  ...  0   0     0     1                          7.5   \n",
       "741             Other  ...  0   0     0     0                         75.0   \n",
       "\n",
       "    Average_company_size       Job_title  seniority  No. of Competitors  \\\n",
       "0                    750  Data Scientist        NaN                   0   \n",
       "1                  10000  Data Scientist        NaN                   0   \n",
       "2                    750  Data Scientist        NaN                   0   \n",
       "3                   3000  Data Scientist        NaN                   3   \n",
       "4                    125  Data Scientist        NaN                   3   \n",
       "..                   ...             ...        ...                 ...   \n",
       "737                10000           Other     Senior                   3   \n",
       "738                 3000   Data Engineer     Senior                   3   \n",
       "739                  750           Other        NaN                   0   \n",
       "740                   25         Manager        NaN                   0   \n",
       "741                  750           Other        NaN                   0   \n",
       "\n",
       "     dec_len  \n",
       "0       2536  \n",
       "1       4783  \n",
       "2       3461  \n",
       "3       3883  \n",
       "4       2728  \n",
       "..       ...  \n",
       "737     6162  \n",
       "738     6130  \n",
       "739     3078  \n",
       "740     1642  \n",
       "741     3673  \n",
       "\n",
       "[742 rows x 29 columns]"
      ]
     },
     "execution_count": 2,
     "metadata": {},
     "output_type": "execute_result"
    }
   ],
   "source": [
    "df = pd.read_csv('eda_data.csv')\n",
    "df"
   ]
  },
  {
   "cell_type": "code",
   "execution_count": 3,
   "id": "5afc8b5b",
   "metadata": {},
   "outputs": [
    {
     "data": {
      "text/plain": [
       "Index(['Job Title', 'Salary Estimate', 'Job Description', 'Rating',\n",
       "       'Company Name', 'Location', 'Headquarters', 'Size', 'Founded',\n",
       "       'Type of ownership', 'Industry', 'Sector', 'Revenue', 'Competitors',\n",
       "       'Average_Salary (K$)', 'job_state', 'same_state', 'Company_age (years)',\n",
       "       'python', 'R', 'aws', 'spark', 'excel', 'Average_Revenue (million $)',\n",
       "       'Average_company_size', 'Job_title', 'seniority', 'No. of Competitors',\n",
       "       'dec_len'],\n",
       "      dtype='object')"
      ]
     },
     "execution_count": 3,
     "metadata": {},
     "output_type": "execute_result"
    }
   ],
   "source": [
    "df.columns"
   ]
  },
  {
   "cell_type": "code",
   "execution_count": 4,
   "id": "b11ddde3",
   "metadata": {},
   "outputs": [],
   "source": [
    "df_model = df[['Rating', 'Size', 'Type of ownership', 'Industry', 'Sector', 'Revenue', 'Average_Salary (K$)', 'job_state', 'same_state',\n",
    "               'Company_age (years)', 'python', 'R', 'aws', 'spark', 'excel', 'Job_title', 'seniority', 'No. of Competitors', 'dec_len']]"
   ]
  },
  {
   "cell_type": "code",
   "execution_count": 6,
   "id": "d4d2c2b0",
   "metadata": {},
   "outputs": [],
   "source": [
    "df_dum = pd.get_dummies(df_model)"
   ]
  },
  {
   "cell_type": "code",
   "execution_count": 17,
   "id": "d168df37",
   "metadata": {},
   "outputs": [],
   "source": [
    "X = df_dum.drop('Average_Salary (K$)', axis = 1)\n",
    "y = df_dum['Average_Salary (K$)'].values"
   ]
  },
  {
   "cell_type": "code",
   "execution_count": 18,
   "id": "ba6ebed0",
   "metadata": {},
   "outputs": [],
   "source": [
    "X_train, X_test, y_train, y_test = train_test_split(X, y, test_size=0.2, random_state=42)"
   ]
  },
  {
   "cell_type": "markdown",
   "id": "54dc6ea6",
   "metadata": {},
   "source": [
    "### Linear regression"
   ]
  },
  {
   "cell_type": "code",
   "execution_count": 58,
   "id": "8bcf47a8",
   "metadata": {},
   "outputs": [
    {
     "name": "stdout",
     "output_type": "stream",
     "text": [
      "132210526.59366827\n",
      "19.45878535413077\n"
     ]
    }
   ],
   "source": [
    "lr = LinearRegression()\n",
    "lr.fit(X_train, y_train)\n",
    "print(-np.mean(cross_val_score(lr, X_train, y_train, scoring = 'neg_mean_absolute_error', cv = 5)))\n",
    "y_pred_lr = lr.predict(X_test)\n",
    "print(mean_absolute_error(y_test, y_pred_lr))"
   ]
  },
  {
   "cell_type": "markdown",
   "id": "6a3837f5",
   "metadata": {},
   "source": [
    "### Lasso regression"
   ]
  },
  {
   "cell_type": "code",
   "execution_count": 57,
   "id": "bb6fca37",
   "metadata": {},
   "outputs": [
    {
     "name": "stdout",
     "output_type": "stream",
     "text": [
      "21.201127664789052\n",
      "23.238527689788253\n"
     ]
    }
   ],
   "source": [
    "lasso = Lasso()\n",
    "lasso.fit(X_train, y_train)\n",
    "print(-np.mean(cross_val_score(lasso, X_train, y_train, scoring = 'neg_mean_absolute_error', cv = 5)))\n",
    "y_pred_lasso = lasso.predict(X_test)\n",
    "print(mean_absolute_error(y_test, y_pred_lasso))"
   ]
  },
  {
   "cell_type": "code",
   "execution_count": 38,
   "id": "d522424c",
   "metadata": {},
   "outputs": [
    {
     "data": {
      "text/plain": [
       "[<matplotlib.lines.Line2D at 0x7f8ba9f419d0>]"
      ]
     },
     "execution_count": 38,
     "metadata": {},
     "output_type": "execute_result"
    },
    {
     "data": {
      "image/png": "[encoded data removed]",
      "text/plain": [
       "<Figure size 432x288 with 1 Axes>"
      ]
     },
     "metadata": {
      "needs_background": "light"
     },
     "output_type": "display_data"
    }
   ],
   "source": [
    "alpha = []\n",
    "error = []\n",
    "\n",
    "for i in range(1, 101):\n",
    "    alpha.append(i/10)\n",
    "    lasso = Lasso(alpha = i/10)\n",
    "    error.append(np.mean(cross_val_score(lasso, X_train, y_train, scoring = 'neg_mean_absolute_error', cv = 5)))\n",
    "    \n",
    "plt.plot(alpha, error)"
   ]
  },
  {
   "cell_type": "code",
   "execution_count": 39,
   "id": "2375dc20",
   "metadata": {},
   "outputs": [
    {
     "data": {
      "text/html": [
       "<div>\n",
       "<style scoped>\n",
       "    .dataframe tbody tr th:only-of-type {\n",
       "        vertical-align: middle;\n",
       "    }\n",
       "\n",
       "    .dataframe tbody tr th {\n",
       "        vertical-align: top;\n",
       "    }\n",
       "\n",
       "    .dataframe thead th {\n",
       "        text-align: right;\n",
       "    }\n",
       "</style>\n",
       "<table border=\"1\" class=\"dataframe\">\n",
       "  <thead>\n",
       "    <tr style=\"text-align: right;\">\n",
       "      <th></th>\n",
       "      <th>alpha</th>\n",
       "      <th>error</th>\n",
       "    </tr>\n",
       "  </thead>\n",
       "  <tbody>\n",
       "    <tr>\n",
       "      <th>0</th>\n",
       "      <td>0.1</td>\n",
       "      <td>-19.553541</td>\n",
       "    </tr>\n",
       "  </tbody>\n",
       "</table>\n",
       "</div>"
      ],
      "text/plain": [
       "   alpha      error\n",
       "0    0.1 -19.553541"
      ]
     },
     "execution_count": 39,
     "metadata": {},
     "output_type": "execute_result"
    }
   ],
   "source": [
    "err = tuple(zip(alpha,error))\n",
    "df_err = pd.DataFrame(err, columns = ['alpha','error'])\n",
    "df_err[df_err.error == max(df_err.error)]"
   ]
  },
  {
   "cell_type": "code",
   "execution_count": 52,
   "id": "e52b8ace",
   "metadata": {},
   "outputs": [
    {
     "name": "stdout",
     "output_type": "stream",
     "text": [
      "19.553540975810144\n",
      "20.41609923823754\n"
     ]
    }
   ],
   "source": [
    "lasso = Lasso(alpha = 0.1)\n",
    "lasso.fit(X_train, y_train)\n",
    "print(-np.mean(cross_val_score(lasso, X_train, y_train, scoring = 'neg_mean_absolute_error', cv = 5)))\n",
    "y_pred = lasso.predict(X_test)\n",
    "print(mean_absolute_error(y_test, y_pred))"
   ]
  },
  {
   "cell_type": "markdown",
   "id": "90e6b7c6",
   "metadata": {},
   "source": [
    "### Random forest regression"
   ]
  },
  {
   "cell_type": "code",
   "execution_count": 42,
   "id": "c67227df",
   "metadata": {},
   "outputs": [
    {
     "data": {
      "text/plain": [
       "13.414208161230594"
      ]
     },
     "execution_count": 42,
     "metadata": {},
     "output_type": "execute_result"
    }
   ],
   "source": [
    "rfr = RandomForestRegressor()\n",
    "-np.mean(cross_val_score(rfr, X_train, y_train, scoring = 'neg_mean_absolute_error', cv = 5))"
   ]
  },
  {
   "cell_type": "markdown",
   "id": "f897c590",
   "metadata": {},
   "source": [
    "### Tunning model using GridSearchCV"
   ]
  },
  {
   "cell_type": "code",
   "execution_count": 45,
   "id": "0b362a7b",
   "metadata": {},
   "outputs": [
    {
     "data": {
      "text/plain": [
       "GridSearchCV(cv=5, estimator=RandomForestRegressor(),\n",
       "             param_grid={'criterion': ('mse', 'mae'),\n",
       "                         'max_features': ('auto', 'sqrt', 'log2'),\n",
       "                         'n_estimators': range(10, 300, 10)},\n",
       "             scoring='neg_mean_absolute_error')"
      ]
     },
     "execution_count": 45,
     "metadata": {},
     "output_type": "execute_result"
    }
   ],
   "source": [
    "parameters = {\n",
    "    'n_estimators': range(10,300,10),\n",
    "    'criterion': ('mse', 'mae'),\n",
    "    'max_features': (\"auto\", \"sqrt\", \"log2\")\n",
    "}\n",
    "gs = GridSearchCV(rfr, parameters, scoring = 'neg_mean_absolute_error', cv = 5)\n",
    "gs.fit(X_train, y_train)"
   ]
  },
  {
   "cell_type": "code",
   "execution_count": 54,
   "id": "33c510d9",
   "metadata": {},
   "outputs": [
    {
     "name": "stdout",
     "output_type": "stream",
     "text": [
      "-13.404490012106539\n"
     ]
    },
    {
     "data": {
      "text/plain": [
       "RandomForestRegressor(n_estimators=240)"
      ]
     },
     "execution_count": 54,
     "metadata": {},
     "output_type": "execute_result"
    }
   ],
   "source": [
    "print(gs.best_score_)\n",
    "gs.best_estimator_"
   ]
  },
  {
   "cell_type": "code",
   "execution_count": 59,
   "id": "3c3a0e43",
   "metadata": {},
   "outputs": [
    {
     "data": {
      "text/plain": [
       "11.161786912751676"
      ]
     },
     "execution_count": 59,
     "metadata": {},
     "output_type": "execute_result"
    }
   ],
   "source": [
    "y_pred_rf = gs.best_estimator_.predict(X_test)\n",
    "mean_absolute_error(y_test, y_pred_rf)"
   ]
  },
  {
   "cell_type": "code",
   "execution_count": 60,
   "id": "210ebcd5",
   "metadata": {},
   "outputs": [
    {
     "data": {
      "text/plain": [
       "14.705576153896128"
      ]
     },
     "execution_count": 60,
     "metadata": {},
     "output_type": "execute_result"
    }
   ],
   "source": [
    "mean_absolute_error(y_test, (y_pred_lr + y_pred_rf)/2)"
   ]
  },
  {
   "cell_type": "code",
   "execution_count": 71,
   "id": "f6fb15a7",
   "metadata": {},
   "outputs": [
    {
     "data": {
      "text/plain": [
       "52.66041666666667"
      ]
     },
     "execution_count": 71,
     "metadata": {},
     "output_type": "execute_result"
    }
   ],
   "source": [
    "import pickle\n",
    "pickl = {'model': gs.best_estimator_}\n",
    "pickle.dump( pickl, open( 'model_file' + \".p\", \"wb\" ) )\n",
    "\n",
    "file_name = \"model_file.p\"\n",
    "with open(file_name, 'rb') as pickled:\n",
    "    data = pickle.load(pickled)\n",
    "    model = data['model']\n",
    "\n",
    "model.predict(np.array(list(X_test.iloc[1,:])).reshape(1,-1))[0]"
   ]
  },
  {
   "cell_type": "code",
   "execution_count": 77,
   "id": "75d00d33",
   "metadata": {},
   "outputs": [
    {
     "data": {
      "text/plain": [
       "11.161786912751676"
      ]
     },
     "execution_count": 77,
     "metadata": {},
     "output_type": "execute_result"
    }
   ],
   "source": [
    "y_pred_model = model.predict(X_test)\n",
    "mean_absolute_error(y_test, y_pred_model)"
   ]
  },
  {
   "cell_type": "code",
   "execution_count": 94,
   "id": "36c1c215",
   "metadata": {},
   "outputs": [
    {
     "name": "stdout",
     "output_type": "stream",
     "text": [
      "55.77 %\n",
      "0.3835272357062429\n",
      "0.7809564470715509\n",
      "0.7809564470715509\n"
     ]
    }
   ],
   "source": [
    "print(round(lr.score(X_test, y_test)*100, 2), '%')\n",
    "print(round(lr.score(X_test, y_test)*100, 2), '%')\n",
    "print(round(lr.score(X_test, y_test)*100, 2), '%')\n",
    "print(round(lr.score(X_test, y_test)*100, 2), '%')\n"
   ]
  },
  {
   "cell_type": "code",
   "execution_count": 87,
   "id": "3f570b80",
   "metadata": {},
   "outputs": [
    {
     "data": {
      "text/plain": [
       "1.23"
      ]
     },
     "execution_count": 87,
     "metadata": {},
     "output_type": "execute_result"
    }
   ],
   "source": [
    "round(1.232323, 2)"
   ]
  },
  {
   "cell_type": "code",
   "execution_count": null,
   "id": "edf7521a",
   "metadata": {},
   "outputs": [],
   "source": []
  }
 ],
 "metadata": {
  "kernelspec": {
   "display_name": "Python 3",
   "language": "python",
   "name": "python3"
  },
  "language_info": {
   "codemirror_mode": {
    "name": "ipython",
    "version": 3
   },
   "file_extension": ".py",
   "mimetype": "text/x-python",
   "name": "python",
   "nbconvert_exporter": "python",
   "pygments_lexer": "ipython3",
   "version": "3.8.8"
  }
 },
 "nbformat": 4,
 "nbformat_minor": 5
}
