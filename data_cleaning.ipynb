{
 "cells": [
  {
   "cell_type": "code",
   "execution_count": 1,
   "id": "1794a04f",
   "metadata": {},
   "outputs": [],
   "source": [
    "import pandas as pd\n",
    "import numpy as np"
   ]
  },
  {
   "cell_type": "code",
   "execution_count": 2,
   "id": "5b1d0949",
   "metadata": {
    "scrolled": false
   },
   "outputs": [
    {
     "data": {
      "text/html": [
       "<div>\n",
       "<style scoped>\n",
       "    .dataframe tbody tr th:only-of-type {\n",
       "        vertical-align: middle;\n",
       "    }\n",
       "\n",
       "    .dataframe tbody tr th {\n",
       "        vertical-align: top;\n",
       "    }\n",
       "\n",
       "    .dataframe thead th {\n",
       "        text-align: right;\n",
       "    }\n",
       "</style>\n",
       "<table border=\"1\" class=\"dataframe\">\n",
       "  <thead>\n",
       "    <tr style=\"text-align: right;\">\n",
       "      <th></th>\n",
       "      <th>Unnamed: 0</th>\n",
       "      <th>Job Title</th>\n",
       "      <th>Salary Estimate</th>\n",
       "      <th>Job Description</th>\n",
       "      <th>Rating</th>\n",
       "      <th>Company Name</th>\n",
       "      <th>Location</th>\n",
       "      <th>Headquarters</th>\n",
       "      <th>Size</th>\n",
       "      <th>Founded</th>\n",
       "      <th>Type of ownership</th>\n",
       "      <th>Industry</th>\n",
       "      <th>Sector</th>\n",
       "      <th>Revenue</th>\n",
       "      <th>Competitors</th>\n",
       "    </tr>\n",
       "  </thead>\n",
       "  <tbody>\n",
       "    <tr>\n",
       "      <th>0</th>\n",
       "      <td>0</td>\n",
       "      <td>Data Scientist</td>\n",
       "      <td>$53K-$91K (Glassdoor est.)</td>\n",
       "      <td>Data Scientist\\nLocation: Albuquerque, NM\\nEdu...</td>\n",
       "      <td>3.8</td>\n",
       "      <td>Tecolote Research\\n3.8</td>\n",
       "      <td>Albuquerque, NM</td>\n",
       "      <td>Goleta, CA</td>\n",
       "      <td>501 to 1000 employees</td>\n",
       "      <td>1973</td>\n",
       "      <td>Company - Private</td>\n",
       "      <td>Aerospace &amp; Defense</td>\n",
       "      <td>Aerospace &amp; Defense</td>\n",
       "      <td>$50 to $100 million (USD)</td>\n",
       "      <td>-1</td>\n",
       "    </tr>\n",
       "    <tr>\n",
       "      <th>1</th>\n",
       "      <td>1</td>\n",
       "      <td>Healthcare Data Scientist</td>\n",
       "      <td>$63K-$112K (Glassdoor est.)</td>\n",
       "      <td>What You Will Do:\\n\\nI. General Summary\\n\\nThe...</td>\n",
       "      <td>3.4</td>\n",
       "      <td>University of Maryland Medical System\\n3.4</td>\n",
       "      <td>Linthicum, MD</td>\n",
       "      <td>Baltimore, MD</td>\n",
       "      <td>10000+ employees</td>\n",
       "      <td>1984</td>\n",
       "      <td>Other Organization</td>\n",
       "      <td>Health Care Services &amp; Hospitals</td>\n",
       "      <td>Health Care</td>\n",
       "      <td>$2 to $5 billion (USD)</td>\n",
       "      <td>-1</td>\n",
       "    </tr>\n",
       "    <tr>\n",
       "      <th>2</th>\n",
       "      <td>2</td>\n",
       "      <td>Data Scientist</td>\n",
       "      <td>$80K-$90K (Glassdoor est.)</td>\n",
       "      <td>KnowBe4, Inc. is a high growth information sec...</td>\n",
       "      <td>4.8</td>\n",
       "      <td>KnowBe4\\n4.8</td>\n",
       "      <td>Clearwater, FL</td>\n",
       "      <td>Clearwater, FL</td>\n",
       "      <td>501 to 1000 employees</td>\n",
       "      <td>2010</td>\n",
       "      <td>Company - Private</td>\n",
       "      <td>Security Services</td>\n",
       "      <td>Business Services</td>\n",
       "      <td>$100 to $500 million (USD)</td>\n",
       "      <td>-1</td>\n",
       "    </tr>\n",
       "    <tr>\n",
       "      <th>3</th>\n",
       "      <td>3</td>\n",
       "      <td>Data Scientist</td>\n",
       "      <td>$56K-$97K (Glassdoor est.)</td>\n",
       "      <td>*Organization and Job ID**\\nJob ID: 310709\\n\\n...</td>\n",
       "      <td>3.8</td>\n",
       "      <td>PNNL\\n3.8</td>\n",
       "      <td>Richland, WA</td>\n",
       "      <td>Richland, WA</td>\n",
       "      <td>1001 to 5000 employees</td>\n",
       "      <td>1965</td>\n",
       "      <td>Government</td>\n",
       "      <td>Energy</td>\n",
       "      <td>Oil, Gas, Energy &amp; Utilities</td>\n",
       "      <td>$500 million to $1 billion (USD)</td>\n",
       "      <td>Oak Ridge National Laboratory, National Renewa...</td>\n",
       "    </tr>\n",
       "    <tr>\n",
       "      <th>4</th>\n",
       "      <td>4</td>\n",
       "      <td>Data Scientist</td>\n",
       "      <td>$86K-$143K (Glassdoor est.)</td>\n",
       "      <td>Data Scientist\\nAffinity Solutions / Marketing...</td>\n",
       "      <td>2.9</td>\n",
       "      <td>Affinity Solutions\\n2.9</td>\n",
       "      <td>New York, NY</td>\n",
       "      <td>New York, NY</td>\n",
       "      <td>51 to 200 employees</td>\n",
       "      <td>1998</td>\n",
       "      <td>Company - Private</td>\n",
       "      <td>Advertising &amp; Marketing</td>\n",
       "      <td>Business Services</td>\n",
       "      <td>Unknown / Non-Applicable</td>\n",
       "      <td>Commerce Signals, Cardlytics, Yodlee</td>\n",
       "    </tr>\n",
       "    <tr>\n",
       "      <th>...</th>\n",
       "      <td>...</td>\n",
       "      <td>...</td>\n",
       "      <td>...</td>\n",
       "      <td>...</td>\n",
       "      <td>...</td>\n",
       "      <td>...</td>\n",
       "      <td>...</td>\n",
       "      <td>...</td>\n",
       "      <td>...</td>\n",
       "      <td>...</td>\n",
       "      <td>...</td>\n",
       "      <td>...</td>\n",
       "      <td>...</td>\n",
       "      <td>...</td>\n",
       "      <td>...</td>\n",
       "    </tr>\n",
       "    <tr>\n",
       "      <th>951</th>\n",
       "      <td>951</td>\n",
       "      <td>Senior Data Engineer</td>\n",
       "      <td>$72K-$133K (Glassdoor est.)</td>\n",
       "      <td>THE CHALLENGE\\nEventbrite has a world-class da...</td>\n",
       "      <td>4.4</td>\n",
       "      <td>Eventbrite\\n4.4</td>\n",
       "      <td>Nashville, TN</td>\n",
       "      <td>San Francisco, CA</td>\n",
       "      <td>1001 to 5000 employees</td>\n",
       "      <td>2006</td>\n",
       "      <td>Company - Public</td>\n",
       "      <td>Internet</td>\n",
       "      <td>Information Technology</td>\n",
       "      <td>$100 to $500 million (USD)</td>\n",
       "      <td>See Tickets, TicketWeb, Vendini</td>\n",
       "    </tr>\n",
       "    <tr>\n",
       "      <th>952</th>\n",
       "      <td>952</td>\n",
       "      <td>Project Scientist - Auton Lab, Robotics Institute</td>\n",
       "      <td>$56K-$91K (Glassdoor est.)</td>\n",
       "      <td>The Auton Lab at Carnegie Mellon University is...</td>\n",
       "      <td>2.6</td>\n",
       "      <td>Software Engineering Institute\\n2.6</td>\n",
       "      <td>Pittsburgh, PA</td>\n",
       "      <td>Pittsburgh, PA</td>\n",
       "      <td>501 to 1000 employees</td>\n",
       "      <td>1984</td>\n",
       "      <td>College / University</td>\n",
       "      <td>Colleges &amp; Universities</td>\n",
       "      <td>Education</td>\n",
       "      <td>Unknown / Non-Applicable</td>\n",
       "      <td>-1</td>\n",
       "    </tr>\n",
       "    <tr>\n",
       "      <th>953</th>\n",
       "      <td>953</td>\n",
       "      <td>Data Science Manager</td>\n",
       "      <td>$95K-$160K (Glassdoor est.)</td>\n",
       "      <td>Data Science ManagerResponsibilities:\\n\\nOvers...</td>\n",
       "      <td>3.2</td>\n",
       "      <td>Numeric, LLC\\n3.2</td>\n",
       "      <td>Allentown, PA</td>\n",
       "      <td>Chadds Ford, PA</td>\n",
       "      <td>1 to 50 employees</td>\n",
       "      <td>-1</td>\n",
       "      <td>Company - Private</td>\n",
       "      <td>Staffing &amp; Outsourcing</td>\n",
       "      <td>Business Services</td>\n",
       "      <td>$5 to $10 million (USD)</td>\n",
       "      <td>-1</td>\n",
       "    </tr>\n",
       "    <tr>\n",
       "      <th>954</th>\n",
       "      <td>954</td>\n",
       "      <td>Data Engineer</td>\n",
       "      <td>-1</td>\n",
       "      <td>Loading...\\n\\nTitle: Data Engineer\\n\\nLocation...</td>\n",
       "      <td>4.8</td>\n",
       "      <td>IGNW\\n4.8</td>\n",
       "      <td>Austin, TX</td>\n",
       "      <td>Portland, OR</td>\n",
       "      <td>201 to 500 employees</td>\n",
       "      <td>2015</td>\n",
       "      <td>Company - Private</td>\n",
       "      <td>IT Services</td>\n",
       "      <td>Information Technology</td>\n",
       "      <td>$25 to $50 million (USD)</td>\n",
       "      <td>Slalom</td>\n",
       "    </tr>\n",
       "    <tr>\n",
       "      <th>955</th>\n",
       "      <td>955</td>\n",
       "      <td>Research Scientist – Security and Privacy</td>\n",
       "      <td>$61K-$126K (Glassdoor est.)</td>\n",
       "      <td>Returning Candidate? Log back in to the Career...</td>\n",
       "      <td>3.6</td>\n",
       "      <td>Riverside Research Institute\\n3.6</td>\n",
       "      <td>Beavercreek, OH</td>\n",
       "      <td>Arlington, VA</td>\n",
       "      <td>501 to 1000 employees</td>\n",
       "      <td>1967</td>\n",
       "      <td>Nonprofit Organization</td>\n",
       "      <td>Federal Agencies</td>\n",
       "      <td>Government</td>\n",
       "      <td>$50 to $100 million (USD)</td>\n",
       "      <td>-1</td>\n",
       "    </tr>\n",
       "  </tbody>\n",
       "</table>\n",
       "<p>956 rows × 15 columns</p>\n",
       "</div>"
      ],
      "text/plain": [
       "     Unnamed: 0                                          Job Title  \\\n",
       "0             0                                     Data Scientist   \n",
       "1             1                          Healthcare Data Scientist   \n",
       "2             2                                     Data Scientist   \n",
       "3             3                                     Data Scientist   \n",
       "4             4                                     Data Scientist   \n",
       "..          ...                                                ...   \n",
       "951         951                               Senior Data Engineer   \n",
       "952         952  Project Scientist - Auton Lab, Robotics Institute   \n",
       "953         953                               Data Science Manager   \n",
       "954         954                                      Data Engineer   \n",
       "955         955          Research Scientist – Security and Privacy   \n",
       "\n",
       "                 Salary Estimate  \\\n",
       "0     $53K-$91K (Glassdoor est.)   \n",
       "1    $63K-$112K (Glassdoor est.)   \n",
       "2     $80K-$90K (Glassdoor est.)   \n",
       "3     $56K-$97K (Glassdoor est.)   \n",
       "4    $86K-$143K (Glassdoor est.)   \n",
       "..                           ...   \n",
       "951  $72K-$133K (Glassdoor est.)   \n",
       "952   $56K-$91K (Glassdoor est.)   \n",
       "953  $95K-$160K (Glassdoor est.)   \n",
       "954                           -1   \n",
       "955  $61K-$126K (Glassdoor est.)   \n",
       "\n",
       "                                       Job Description  Rating  \\\n",
       "0    Data Scientist\\nLocation: Albuquerque, NM\\nEdu...     3.8   \n",
       "1    What You Will Do:\\n\\nI. General Summary\\n\\nThe...     3.4   \n",
       "2    KnowBe4, Inc. is a high growth information sec...     4.8   \n",
       "3    *Organization and Job ID**\\nJob ID: 310709\\n\\n...     3.8   \n",
       "4    Data Scientist\\nAffinity Solutions / Marketing...     2.9   \n",
       "..                                                 ...     ...   \n",
       "951  THE CHALLENGE\\nEventbrite has a world-class da...     4.4   \n",
       "952  The Auton Lab at Carnegie Mellon University is...     2.6   \n",
       "953  Data Science ManagerResponsibilities:\\n\\nOvers...     3.2   \n",
       "954  Loading...\\n\\nTitle: Data Engineer\\n\\nLocation...     4.8   \n",
       "955  Returning Candidate? Log back in to the Career...     3.6   \n",
       "\n",
       "                                   Company Name         Location  \\\n",
       "0                        Tecolote Research\\n3.8  Albuquerque, NM   \n",
       "1    University of Maryland Medical System\\n3.4    Linthicum, MD   \n",
       "2                                  KnowBe4\\n4.8   Clearwater, FL   \n",
       "3                                     PNNL\\n3.8     Richland, WA   \n",
       "4                       Affinity Solutions\\n2.9     New York, NY   \n",
       "..                                          ...              ...   \n",
       "951                             Eventbrite\\n4.4    Nashville, TN   \n",
       "952         Software Engineering Institute\\n2.6   Pittsburgh, PA   \n",
       "953                           Numeric, LLC\\n3.2    Allentown, PA   \n",
       "954                                   IGNW\\n4.8       Austin, TX   \n",
       "955           Riverside Research Institute\\n3.6  Beavercreek, OH   \n",
       "\n",
       "          Headquarters                    Size  Founded  \\\n",
       "0           Goleta, CA   501 to 1000 employees     1973   \n",
       "1        Baltimore, MD        10000+ employees     1984   \n",
       "2       Clearwater, FL   501 to 1000 employees     2010   \n",
       "3         Richland, WA  1001 to 5000 employees     1965   \n",
       "4         New York, NY     51 to 200 employees     1998   \n",
       "..                 ...                     ...      ...   \n",
       "951  San Francisco, CA  1001 to 5000 employees     2006   \n",
       "952     Pittsburgh, PA   501 to 1000 employees     1984   \n",
       "953    Chadds Ford, PA       1 to 50 employees       -1   \n",
       "954       Portland, OR    201 to 500 employees     2015   \n",
       "955      Arlington, VA   501 to 1000 employees     1967   \n",
       "\n",
       "          Type of ownership                          Industry  \\\n",
       "0         Company - Private               Aerospace & Defense   \n",
       "1        Other Organization  Health Care Services & Hospitals   \n",
       "2         Company - Private                 Security Services   \n",
       "3                Government                            Energy   \n",
       "4         Company - Private           Advertising & Marketing   \n",
       "..                      ...                               ...   \n",
       "951        Company - Public                          Internet   \n",
       "952    College / University           Colleges & Universities   \n",
       "953       Company - Private            Staffing & Outsourcing   \n",
       "954       Company - Private                       IT Services   \n",
       "955  Nonprofit Organization                  Federal Agencies   \n",
       "\n",
       "                           Sector                           Revenue  \\\n",
       "0             Aerospace & Defense         $50 to $100 million (USD)   \n",
       "1                     Health Care            $2 to $5 billion (USD)   \n",
       "2               Business Services        $100 to $500 million (USD)   \n",
       "3    Oil, Gas, Energy & Utilities  $500 million to $1 billion (USD)   \n",
       "4               Business Services          Unknown / Non-Applicable   \n",
       "..                            ...                               ...   \n",
       "951        Information Technology        $100 to $500 million (USD)   \n",
       "952                     Education          Unknown / Non-Applicable   \n",
       "953             Business Services           $5 to $10 million (USD)   \n",
       "954        Information Technology          $25 to $50 million (USD)   \n",
       "955                    Government         $50 to $100 million (USD)   \n",
       "\n",
       "                                           Competitors  \n",
       "0                                                   -1  \n",
       "1                                                   -1  \n",
       "2                                                   -1  \n",
       "3    Oak Ridge National Laboratory, National Renewa...  \n",
       "4                 Commerce Signals, Cardlytics, Yodlee  \n",
       "..                                                 ...  \n",
       "951                    See Tickets, TicketWeb, Vendini  \n",
       "952                                                 -1  \n",
       "953                                                 -1  \n",
       "954                                             Slalom  \n",
       "955                                                 -1  \n",
       "\n",
       "[956 rows x 15 columns]"
      ]
     },
     "execution_count": 2,
     "metadata": {},
     "output_type": "execute_result"
    }
   ],
   "source": [
    "df = pd.read_csv('glassdoor_jobs.csv')\n",
    "df"
   ]
  },
  {
   "cell_type": "code",
   "execution_count": 3,
   "id": "579de423",
   "metadata": {},
   "outputs": [
    {
     "data": {
      "text/plain": [
       "Unnamed: 0           0\n",
       "Job Title            0\n",
       "Salary Estimate      0\n",
       "Job Description      0\n",
       "Rating               0\n",
       "Company Name         0\n",
       "Location             0\n",
       "Headquarters         0\n",
       "Size                 0\n",
       "Founded              0\n",
       "Type of ownership    0\n",
       "Industry             0\n",
       "Sector               0\n",
       "Revenue              0\n",
       "Competitors          0\n",
       "dtype: int64"
      ]
     },
     "execution_count": 3,
     "metadata": {},
     "output_type": "execute_result"
    }
   ],
   "source": [
    "df.isna().sum()"
   ]
  },
  {
   "cell_type": "markdown",
   "id": "d30855ac",
   "metadata": {},
   "source": [
    "## TO DO\n",
    "* salary parsing\n",
    "* company name ---- text only\n",
    "* state field\n",
    "* age of company\n",
    "* parsing of job description ----- skills --- python, R, etc"
   ]
  },
  {
   "cell_type": "code",
   "execution_count": 4,
   "id": "1a68838f",
   "metadata": {},
   "outputs": [
    {
     "data": {
      "text/plain": [
       "Unnamed: 0             int64\n",
       "Job Title             object\n",
       "Salary Estimate       object\n",
       "Job Description       object\n",
       "Rating               float64\n",
       "Company Name          object\n",
       "Location              object\n",
       "Headquarters          object\n",
       "Size                  object\n",
       "Founded                int64\n",
       "Type of ownership     object\n",
       "Industry              object\n",
       "Sector                object\n",
       "Revenue               object\n",
       "Competitors           object\n",
       "dtype: object"
      ]
     },
     "execution_count": 4,
     "metadata": {},
     "output_type": "execute_result"
    }
   ],
   "source": [
    "df.dtypes"
   ]
  },
  {
   "cell_type": "code",
   "execution_count": 5,
   "id": "02307c85",
   "metadata": {},
   "outputs": [],
   "source": [
    "df.drop(columns = 'Unnamed: 0', inplace = True)"
   ]
  },
  {
   "cell_type": "code",
   "execution_count": 6,
   "id": "03e105e1",
   "metadata": {},
   "outputs": [],
   "source": [
    "df = df[df['Salary Estimate'] != '-1'].reset_index().drop(columns = 'index')"
   ]
  },
  {
   "cell_type": "code",
   "execution_count": 7,
   "id": "addcfe0f",
   "metadata": {},
   "outputs": [
    {
     "data": {
      "text/plain": [
       "'$53K-$91K (Glassdoor est.)'"
      ]
     },
     "execution_count": 7,
     "metadata": {},
     "output_type": "execute_result"
    }
   ],
   "source": [
    "df['Salary Estimate'][0]"
   ]
  },
  {
   "cell_type": "code",
   "execution_count": 8,
   "id": "8fe037af",
   "metadata": {},
   "outputs": [
    {
     "data": {
      "text/plain": [
       "0     $53K-$91K \n",
       "1    $63K-$112K \n",
       "2     $80K-$90K \n",
       "3     $56K-$97K \n",
       "4    $86K-$143K \n",
       "Name: Salary Estimate, dtype: object"
      ]
     },
     "execution_count": 8,
     "metadata": {},
     "output_type": "execute_result"
    }
   ],
   "source": [
    "salary= df['Salary Estimate'].apply(lambda x: x.split('(')[0])\n",
    "salary.head()"
   ]
  },
  {
   "cell_type": "code",
   "execution_count": 9,
   "id": "473ddac6",
   "metadata": {},
   "outputs": [],
   "source": [
    "minus_eks = salary.apply(lambda x: \n",
    "                        x.replace('Employer Provided Salary:', '').replace('K','').replace('$', '')).str.strip()"
   ]
  },
  {
   "cell_type": "markdown",
   "id": "fdf8ca3a",
   "metadata": {},
   "source": [
    "### Assumptions\n",
    "* 8 working hours in a day\n",
    "* 250 working days in a year"
   ]
  },
  {
   "cell_type": "code",
   "execution_count": 10,
   "id": "962ae399",
   "metadata": {},
   "outputs": [],
   "source": [
    "def remove_per_hour(x):\n",
    "    if len(x) > 7:\n",
    "        x = x.split(' ')[0]\n",
    "        x = x.split('-')\n",
    "        x0 = int(int(x[0])*8*250/1000)\n",
    "        x1 = int(int(x[1])*8*250/1000)\n",
    "        return str(x0)+'-'+str(x1)\n",
    "    else:\n",
    "        return x"
   ]
  },
  {
   "cell_type": "code",
   "execution_count": 11,
   "id": "dc68706a",
   "metadata": {},
   "outputs": [
    {
     "data": {
      "text/plain": [
       "'48-78'"
      ]
     },
     "execution_count": 11,
     "metadata": {},
     "output_type": "execute_result"
    }
   ],
   "source": [
    "remove_per_hour('24-39 Per Hour')"
   ]
  },
  {
   "cell_type": "code",
   "execution_count": 12,
   "id": "ca20707a",
   "metadata": {},
   "outputs": [],
   "source": [
    "minus_ph = minus_eks.apply(lambda x: remove_per_hour(x))"
   ]
  },
  {
   "cell_type": "code",
   "execution_count": 13,
   "id": "9bc04c7f",
   "metadata": {},
   "outputs": [],
   "source": [
    "def average(x):\n",
    "    x = x.split('-')\n",
    "    return np.average([int(x[0]), int(x[1])])"
   ]
  },
  {
   "cell_type": "code",
   "execution_count": 14,
   "id": "1b161785",
   "metadata": {},
   "outputs": [],
   "source": [
    "df['average_salary (K$)'] = minus_ph.apply(lambda x: average(x))"
   ]
  },
  {
   "cell_type": "code",
   "execution_count": 15,
   "id": "5c9b6d67",
   "metadata": {},
   "outputs": [],
   "source": [
    "df['Company Name'] = df.apply(lambda x: x['Company Name'] if x['Rating'] < 0\n",
    "                                                                          else x['Company Name'][:-3], axis = 1)"
   ]
  },
  {
   "cell_type": "code",
   "execution_count": 16,
   "id": "eaf4ec15",
   "metadata": {},
   "outputs": [],
   "source": [
    "df['job_state'] = df['Location'].apply(lambda x: x.split(',')[1])"
   ]
  },
  {
   "cell_type": "code",
   "execution_count": 17,
   "id": "d1a618c9",
   "metadata": {},
   "outputs": [],
   "source": [
    "df['same_state'] = df.apply(lambda x: 1 if x['Location'] == x['Headquarters'] else 0, axis = 1)"
   ]
  },
  {
   "cell_type": "code",
   "execution_count": 18,
   "id": "7ff1162b",
   "metadata": {},
   "outputs": [],
   "source": [
    "df['Company_age (years)'] = df['Founded'].apply(lambda x: x if x < -1 else 2022 - x)"
   ]
  },
  {
   "cell_type": "code",
   "execution_count": 19,
   "id": "1adb9bcf",
   "metadata": {},
   "outputs": [],
   "source": [
    "df['python'] = df['Job Description'].apply(lambda x: 1 if 'python' in x.lower() else 0)"
   ]
  },
  {
   "cell_type": "code",
   "execution_count": 20,
   "id": "e354edda",
   "metadata": {},
   "outputs": [],
   "source": [
    "df['R'] = df['Job Description'].apply(lambda x: 1 if 'r studio' in x.lower() or 'r-studio' in x.lower() else 0)"
   ]
  },
  {
   "cell_type": "code",
   "execution_count": 21,
   "id": "f3bcf0ac",
   "metadata": {},
   "outputs": [],
   "source": [
    "df['aws'] = df['Job Description'].apply(lambda x: 1 if 'aws' in x.lower() else 0)"
   ]
  },
  {
   "cell_type": "code",
   "execution_count": 22,
   "id": "9fe84e15",
   "metadata": {},
   "outputs": [],
   "source": [
    "df['spark'] = df['Job Description'].apply(lambda x: 1 if 'spark' in x.lower() else 0)"
   ]
  },
  {
   "cell_type": "code",
   "execution_count": 23,
   "id": "d55a4764",
   "metadata": {},
   "outputs": [],
   "source": [
    "df['excel'] = df['Job Description'].apply(lambda x: 1 if 'excel' in x.lower() else 0)"
   ]
  },
  {
   "cell_type": "code",
   "execution_count": 24,
   "id": "2a28b5a9",
   "metadata": {},
   "outputs": [
    {
     "data": {
      "text/plain": [
       "(392, 2, 176, 167, 388)"
      ]
     },
     "execution_count": 24,
     "metadata": {},
     "output_type": "execute_result"
    }
   ],
   "source": [
    "(df['python'].sum(),\n",
    "df['R'].sum(),\n",
    "df['aws'].sum(),\n",
    "df['spark'].sum(),\n",
    "df['excel'].sum())"
   ]
  },
  {
   "cell_type": "code",
   "execution_count": 25,
   "id": "95e7a23c",
   "metadata": {},
   "outputs": [
    {
     "data": {
      "text/plain": [
       "Index(['Job Title', 'Salary Estimate', 'Job Description', 'Rating',\n",
       "       'Company Name', 'Location', 'Headquarters', 'Size', 'Founded',\n",
       "       'Type of ownership', 'Industry', 'Sector', 'Revenue', 'Competitors',\n",
       "       'average_salary (K$)', 'job_state', 'same_state', 'Company_age (years)',\n",
       "       'python', 'R', 'aws', 'spark', 'excel'],\n",
       "      dtype='object')"
      ]
     },
     "execution_count": 25,
     "metadata": {},
     "output_type": "execute_result"
    }
   ],
   "source": [
    "df.columns"
   ]
  },
  {
   "cell_type": "code",
   "execution_count": 26,
   "id": "9feb6a08",
   "metadata": {},
   "outputs": [
    {
     "data": {
      "text/plain": [
       "0             $50 to $100 million (USD)\n",
       "1                $2 to $5 billion (USD)\n",
       "2            $100 to $500 million (USD)\n",
       "3      $500 million to $1 billion (USD)\n",
       "4              Unknown / Non-Applicable\n",
       "                     ...               \n",
       "737                  $10+ billion (USD)\n",
       "738          $100 to $500 million (USD)\n",
       "739            Unknown / Non-Applicable\n",
       "740             $5 to $10 million (USD)\n",
       "741           $50 to $100 million (USD)\n",
       "Name: Revenue, Length: 742, dtype: object"
      ]
     },
     "execution_count": 26,
     "metadata": {},
     "output_type": "execute_result"
    }
   ],
   "source": [
    "df['Revenue']"
   ]
  },
  {
   "cell_type": "code",
   "execution_count": 27,
   "id": "a7eeee22",
   "metadata": {},
   "outputs": [],
   "source": [
    "minus_usd = df['Revenue'].apply(lambda x: x.split('(')[0])"
   ]
  },
  {
   "cell_type": "code",
   "execution_count": 28,
   "id": "90051427",
   "metadata": {},
   "outputs": [
    {
     "data": {
      "text/plain": [
       "0             $50 to $100 million \n",
       "1                $2 to $5 billion \n",
       "2            $100 to $500 million \n",
       "3      $500 million to $1 billion \n",
       "4         Unknown / Non-Applicable\n",
       "                  ...             \n",
       "737                  $10+ billion \n",
       "738          $100 to $500 million \n",
       "739       Unknown / Non-Applicable\n",
       "740             $5 to $10 million \n",
       "741           $50 to $100 million \n",
       "Name: Revenue, Length: 742, dtype: object"
      ]
     },
     "execution_count": 28,
     "metadata": {},
     "output_type": "execute_result"
    }
   ],
   "source": [
    "minus_usd"
   ]
  },
  {
   "cell_type": "code",
   "execution_count": 29,
   "id": "34905178",
   "metadata": {},
   "outputs": [],
   "source": [
    "minus_unknown = minus_usd.apply(lambda x: 0 if x == 'Unknown / Non-Applicable' else x)"
   ]
  },
  {
   "cell_type": "code",
   "execution_count": 30,
   "id": "a08f72e1",
   "metadata": {
    "scrolled": true
   },
   "outputs": [
    {
     "data": {
      "text/plain": [
       "0             $50 to $100 million \n",
       "1                $2 to $5 billion \n",
       "2            $100 to $500 million \n",
       "3      $500 million to $1 billion \n",
       "4                                0\n",
       "                  ...             \n",
       "737                  $10+ billion \n",
       "738          $100 to $500 million \n",
       "739                              0\n",
       "740             $5 to $10 million \n",
       "741           $50 to $100 million \n",
       "Name: Revenue, Length: 742, dtype: object"
      ]
     },
     "execution_count": 30,
     "metadata": {},
     "output_type": "execute_result"
    }
   ],
   "source": [
    "minus_unknown"
   ]
  },
  {
   "cell_type": "markdown",
   "id": "8a268362",
   "metadata": {},
   "source": [
    "1 billion = 1000 million"
   ]
  },
  {
   "cell_type": "code",
   "execution_count": 31,
   "id": "62f66a78",
   "metadata": {},
   "outputs": [],
   "source": [
    "def get_revenue(x):\n",
    "    x = x.split('to')\n",
    "    \n",
    "    if len(x) == 2:\n",
    "        x0 = x[0].split(' ')[0][1:]\n",
    "        x01 = x[0].split(' ')[1]\n",
    "\n",
    "        x1 = x[1][1:].split(' ')[0][1:]\n",
    "        x11 = x[1][1:].split(' ')[1]\n",
    "\n",
    "        if x01 == 'billion' and x11 == 'billion':\n",
    "            avg = 1000*(int(x0) + int(x1))/2\n",
    "\n",
    "        elif x01 == '' and x11 == 'billion':\n",
    "            avg = 1000*(int(x0) + int(x1))/2\n",
    "\n",
    "        elif x01 == 'million' and x11 == 'billion':\n",
    "            avg = (int(x0) + 1000*int(x1))/2\n",
    "\n",
    "        else:\n",
    "            avg = (int(x0)+int(x1))/2\n",
    "\n",
    "        return avg\n",
    "    \n",
    "    else:\n",
    "        return x[0]"
   ]
  },
  {
   "cell_type": "code",
   "execution_count": 32,
   "id": "486100cc",
   "metadata": {},
   "outputs": [],
   "source": [
    "getting_avg_revenue = minus_unknown.apply(lambda x: 0 if x == 0 else get_revenue(x))"
   ]
  },
  {
   "cell_type": "code",
   "execution_count": 33,
   "id": "d3608c62",
   "metadata": {
    "scrolled": true
   },
   "outputs": [
    {
     "name": "stdout",
     "output_type": "stream",
     "text": [
      "$10+ billion \n",
      "$10+ billion \n",
      "$10+ billion \n",
      "$10+ billion \n",
      "$10+ billion \n",
      "Less than $1 million \n",
      "$10+ billion \n",
      "$10+ billion \n",
      "$10+ billion \n",
      "$10+ billion \n",
      "$10+ billion \n",
      "$10+ billion \n",
      "$10+ billion \n",
      "$10+ billion \n",
      "$10+ billion \n",
      "$10+ billion \n",
      "$10+ billion \n",
      "$10+ billion \n",
      "$10+ billion \n",
      "$10+ billion \n",
      "$10+ billion \n",
      "$10+ billion \n",
      "$10+ billion \n",
      "$10+ billion \n",
      "$10+ billion \n",
      "$10+ billion \n",
      "$10+ billion \n",
      "$10+ billion \n",
      "$10+ billion \n",
      "$10+ billion \n",
      "$10+ billion \n",
      "$10+ billion \n",
      "$10+ billion \n",
      "$10+ billion \n",
      "$10+ billion \n",
      "Less than $1 million \n",
      "$10+ billion \n",
      "$10+ billion \n",
      "$10+ billion \n",
      "$10+ billion \n",
      "$10+ billion \n",
      "$10+ billion \n",
      "$10+ billion \n",
      "$10+ billion \n",
      "$10+ billion \n",
      "$10+ billion \n",
      "$10+ billion \n",
      "$10+ billion \n",
      "$10+ billion \n",
      "$10+ billion \n",
      "$10+ billion \n",
      "$10+ billion \n",
      "$10+ billion \n",
      "$10+ billion \n",
      "$10+ billion \n",
      "$10+ billion \n",
      "$10+ billion \n",
      "$10+ billion \n",
      "$10+ billion \n",
      "$10+ billion \n",
      "$10+ billion \n",
      "$10+ billion \n",
      "$10+ billion \n",
      "$10+ billion \n",
      "$10+ billion \n",
      "$10+ billion \n",
      "$10+ billion \n",
      "$10+ billion \n",
      "Less than $1 million \n",
      "Less than $1 million \n",
      "$10+ billion \n",
      "$10+ billion \n",
      "$10+ billion \n",
      "$10+ billion \n",
      "$10+ billion \n",
      "$10+ billion \n",
      "$10+ billion \n",
      "$10+ billion \n",
      "$10+ billion \n",
      "$10+ billion \n",
      "$10+ billion \n",
      "$10+ billion \n",
      "$10+ billion \n",
      "$10+ billion \n",
      "$10+ billion \n",
      "$10+ billion \n",
      "$10+ billion \n",
      "$10+ billion \n",
      "$10+ billion \n",
      "$10+ billion \n",
      "$10+ billion \n",
      "$10+ billion \n",
      "$10+ billion \n",
      "$10+ billion \n",
      "$10+ billion \n",
      "$10+ billion \n",
      "$10+ billion \n",
      "$10+ billion \n",
      "$10+ billion \n",
      "$10+ billion \n",
      "$10+ billion \n",
      "$10+ billion \n",
      "$10+ billion \n",
      "$10+ billion \n",
      "$10+ billion \n",
      "$10+ billion \n",
      "$10+ billion \n",
      "$10+ billion \n",
      "$10+ billion \n",
      "$10+ billion \n",
      "$10+ billion \n",
      "$10+ billion \n",
      "$10+ billion \n",
      "$10+ billion \n",
      "$10+ billion \n",
      "$10+ billion \n",
      "$10+ billion \n",
      "$10+ billion \n",
      "$10+ billion \n",
      "$10+ billion \n",
      "$10+ billion \n",
      "$10+ billion \n",
      "$10+ billion \n",
      "$10+ billion \n",
      "$10+ billion \n",
      "$10+ billion \n",
      "$10+ billion \n",
      "$10+ billion \n"
     ]
    }
   ],
   "source": [
    "for i in getting_avg_revenue:\n",
    "    if len(str(i)) > 7:\n",
    "        print(i)"
   ]
  },
  {
   "cell_type": "code",
   "execution_count": 34,
   "id": "98625000",
   "metadata": {},
   "outputs": [],
   "source": [
    "minus_10_plus_billion = getting_avg_revenue.apply(lambda x: 10*1000 if x == '$10+ billion ' else x)"
   ]
  },
  {
   "cell_type": "code",
   "execution_count": 35,
   "id": "cf61367f",
   "metadata": {},
   "outputs": [],
   "source": [
    "minus_less_than_1_million = minus_10_plus_billion.apply(lambda x: 1 if x == 'Less than $1 million ' else x)"
   ]
  },
  {
   "cell_type": "code",
   "execution_count": 36,
   "id": "d760179e",
   "metadata": {},
   "outputs": [],
   "source": [
    "df['Average_Revenue (million $)'] = minus_less_than_1_million.apply(lambda x: float(x))"
   ]
  },
  {
   "cell_type": "code",
   "execution_count": 37,
   "id": "1b5a26a2",
   "metadata": {},
   "outputs": [],
   "source": [
    "df['Average_Revenue (million $)'] = df['Average_Revenue (million $)'].apply(lambda x: 1 if x == 0 else x)"
   ]
  },
  {
   "cell_type": "code",
   "execution_count": 38,
   "id": "47fb60d8",
   "metadata": {},
   "outputs": [],
   "source": [
    "minus_employees = df['Size'].apply(lambda x: x.replace('employees', '')).str.strip()"
   ]
  },
  {
   "cell_type": "code",
   "execution_count": 39,
   "id": "25a3e115",
   "metadata": {},
   "outputs": [],
   "source": [
    "minus_unknown = minus_employees.apply(lambda x: '-1' if x == 'Unknown' else x)"
   ]
  },
  {
   "cell_type": "code",
   "execution_count": 40,
   "id": "ec652f76",
   "metadata": {},
   "outputs": [
    {
     "data": {
      "text/plain": [
       "0       501 to 1000\n",
       "1            10000+\n",
       "2       501 to 1000\n",
       "3      1001 to 5000\n",
       "4         51 to 200\n",
       "           ...     \n",
       "737          10000+\n",
       "738    1001 to 5000\n",
       "739     501 to 1000\n",
       "740         1 to 50\n",
       "741     501 to 1000\n",
       "Name: Size, Length: 742, dtype: object"
      ]
     },
     "execution_count": 40,
     "metadata": {},
     "output_type": "execute_result"
    }
   ],
   "source": [
    "minus_unknown"
   ]
  },
  {
   "cell_type": "code",
   "execution_count": 41,
   "id": "dc23d9be",
   "metadata": {},
   "outputs": [],
   "source": [
    "def get_avg_size(x):\n",
    "    x = x.split('to')\n",
    "    if len(x) == 2:\n",
    "        avg = int( ( int(x[0]) + int(x[1]) ) / 2 )\n",
    "        return avg\n",
    "    elif x[0] == '-1':\n",
    "        return 0\n",
    "    else:\n",
    "        return int( x[0][:-1] )"
   ]
  },
  {
   "cell_type": "code",
   "execution_count": 42,
   "id": "fb130030",
   "metadata": {},
   "outputs": [],
   "source": [
    "getting_avg_size = minus_unknown.apply(lambda x: get_avg_size(x))"
   ]
  },
  {
   "cell_type": "code",
   "execution_count": 43,
   "id": "53dd54c0",
   "metadata": {},
   "outputs": [
    {
     "data": {
      "text/plain": [
       "1918"
      ]
     },
     "execution_count": 43,
     "metadata": {},
     "output_type": "execute_result"
    }
   ],
   "source": [
    "s = 0\n",
    "c = 0\n",
    "for i in getting_avg_size:\n",
    "    if i != 10000:\n",
    "        s += i\n",
    "        c += 1\n",
    "avg = int(s/c)\n",
    "avg"
   ]
  },
  {
   "cell_type": "code",
   "execution_count": 44,
   "id": "bdb71fba",
   "metadata": {},
   "outputs": [],
   "source": [
    "df['Average_company_size'] = getting_avg_size.apply(lambda x: avg if x == 0 else x)"
   ]
  },
  {
   "cell_type": "code",
   "execution_count": 45,
   "id": "5c5f3cae",
   "metadata": {},
   "outputs": [
    {
     "data": {
      "text/plain": [
       "Company - Private                 410\n",
       "Company - Public                  193\n",
       "Nonprofit Organization             55\n",
       "Subsidiary or Business Segment     34\n",
       "Government                         15\n",
       "Hospital                           15\n",
       "College / University               13\n",
       "Other Organization                  3\n",
       "School / School District            2\n",
       "Unknown                             1\n",
       "-1                                  1\n",
       "Name: Type of ownership, dtype: int64"
      ]
     },
     "execution_count": 45,
     "metadata": {},
     "output_type": "execute_result"
    }
   ],
   "source": [
    "df['Type of ownership'].value_counts()"
   ]
  },
  {
   "cell_type": "code",
   "execution_count": 46,
   "id": "ab968e4a",
   "metadata": {},
   "outputs": [],
   "source": [
    "df['Type of ownership'] = df['Type of ownership'].apply(lambda x: 'Other' if x != 'Company - Private' and x != 'Company - Public' else x)\n",
    "df['Type of ownership'] = df['Type of ownership'].apply(lambda x: 'Private' if x == 'Company - Private' else x)\n",
    "df['Type of ownership'] = df['Type of ownership'].apply(lambda x: 'Public' if x == 'Company - Public' else x)"
   ]
  },
  {
   "cell_type": "code",
   "execution_count": 47,
   "id": "5cbb5046",
   "metadata": {},
   "outputs": [
    {
     "data": {
      "text/plain": [
       "Private    410\n",
       "Public     193\n",
       "Other      139\n",
       "Name: Type of ownership, dtype: int64"
      ]
     },
     "execution_count": 47,
     "metadata": {},
     "output_type": "execute_result"
    }
   ],
   "source": [
    "df['Type of ownership'].value_counts()"
   ]
  },
  {
   "cell_type": "code",
   "execution_count": 48,
   "id": "fd484e6d",
   "metadata": {},
   "outputs": [
    {
     "data": {
      "text/plain": [
       "Job Title                       object\n",
       "Salary Estimate                 object\n",
       "Job Description                 object\n",
       "Rating                         float64\n",
       "Company Name                    object\n",
       "Location                        object\n",
       "Headquarters                    object\n",
       "Size                            object\n",
       "Founded                          int64\n",
       "Type of ownership               object\n",
       "Industry                        object\n",
       "Sector                          object\n",
       "Revenue                         object\n",
       "Competitors                     object\n",
       "average_salary (K$)            float64\n",
       "job_state                       object\n",
       "same_state                       int64\n",
       "Company_age (years)              int64\n",
       "python                           int64\n",
       "R                                int64\n",
       "aws                              int64\n",
       "spark                            int64\n",
       "excel                            int64\n",
       "Average_Revenue (million $)    float64\n",
       "Average_company_size             int64\n",
       "dtype: object"
      ]
     },
     "execution_count": 48,
     "metadata": {},
     "output_type": "execute_result"
    }
   ],
   "source": [
    "df.dtypes"
   ]
  },
  {
   "cell_type": "code",
   "execution_count": 49,
   "id": "d1101d6f",
   "metadata": {
    "scrolled": false
   },
   "outputs": [
    {
     "data": {
      "text/html": [
       "<div>\n",
       "<style scoped>\n",
       "    .dataframe tbody tr th:only-of-type {\n",
       "        vertical-align: middle;\n",
       "    }\n",
       "\n",
       "    .dataframe tbody tr th {\n",
       "        vertical-align: top;\n",
       "    }\n",
       "\n",
       "    .dataframe thead th {\n",
       "        text-align: right;\n",
       "    }\n",
       "</style>\n",
       "<table border=\"1\" class=\"dataframe\">\n",
       "  <thead>\n",
       "    <tr style=\"text-align: right;\">\n",
       "      <th></th>\n",
       "      <th>Job Title</th>\n",
       "      <th>Salary Estimate</th>\n",
       "      <th>Job Description</th>\n",
       "      <th>Rating</th>\n",
       "      <th>Company Name</th>\n",
       "      <th>Location</th>\n",
       "      <th>Headquarters</th>\n",
       "      <th>Size</th>\n",
       "      <th>Founded</th>\n",
       "      <th>Type of ownership</th>\n",
       "      <th>...</th>\n",
       "      <th>job_state</th>\n",
       "      <th>same_state</th>\n",
       "      <th>Company_age (years)</th>\n",
       "      <th>python</th>\n",
       "      <th>R</th>\n",
       "      <th>aws</th>\n",
       "      <th>spark</th>\n",
       "      <th>excel</th>\n",
       "      <th>Average_Revenue (million $)</th>\n",
       "      <th>Average_company_size</th>\n",
       "    </tr>\n",
       "  </thead>\n",
       "  <tbody>\n",
       "    <tr>\n",
       "      <th>0</th>\n",
       "      <td>Data Scientist</td>\n",
       "      <td>$53K-$91K (Glassdoor est.)</td>\n",
       "      <td>Data Scientist\\nLocation: Albuquerque, NM\\nEdu...</td>\n",
       "      <td>3.8</td>\n",
       "      <td>Tecolote Research\\n</td>\n",
       "      <td>Albuquerque, NM</td>\n",
       "      <td>Goleta, CA</td>\n",
       "      <td>501 to 1000 employees</td>\n",
       "      <td>1973</td>\n",
       "      <td>Private</td>\n",
       "      <td>...</td>\n",
       "      <td>NM</td>\n",
       "      <td>0</td>\n",
       "      <td>49</td>\n",
       "      <td>1</td>\n",
       "      <td>0</td>\n",
       "      <td>0</td>\n",
       "      <td>0</td>\n",
       "      <td>1</td>\n",
       "      <td>75.0</td>\n",
       "      <td>750</td>\n",
       "    </tr>\n",
       "    <tr>\n",
       "      <th>1</th>\n",
       "      <td>Healthcare Data Scientist</td>\n",
       "      <td>$63K-$112K (Glassdoor est.)</td>\n",
       "      <td>What You Will Do:\\n\\nI. General Summary\\n\\nThe...</td>\n",
       "      <td>3.4</td>\n",
       "      <td>University of Maryland Medical System\\n</td>\n",
       "      <td>Linthicum, MD</td>\n",
       "      <td>Baltimore, MD</td>\n",
       "      <td>10000+ employees</td>\n",
       "      <td>1984</td>\n",
       "      <td>Other</td>\n",
       "      <td>...</td>\n",
       "      <td>MD</td>\n",
       "      <td>0</td>\n",
       "      <td>38</td>\n",
       "      <td>1</td>\n",
       "      <td>0</td>\n",
       "      <td>0</td>\n",
       "      <td>0</td>\n",
       "      <td>0</td>\n",
       "      <td>3500.0</td>\n",
       "      <td>10000</td>\n",
       "    </tr>\n",
       "    <tr>\n",
       "      <th>2</th>\n",
       "      <td>Data Scientist</td>\n",
       "      <td>$80K-$90K (Glassdoor est.)</td>\n",
       "      <td>KnowBe4, Inc. is a high growth information sec...</td>\n",
       "      <td>4.8</td>\n",
       "      <td>KnowBe4\\n</td>\n",
       "      <td>Clearwater, FL</td>\n",
       "      <td>Clearwater, FL</td>\n",
       "      <td>501 to 1000 employees</td>\n",
       "      <td>2010</td>\n",
       "      <td>Private</td>\n",
       "      <td>...</td>\n",
       "      <td>FL</td>\n",
       "      <td>1</td>\n",
       "      <td>12</td>\n",
       "      <td>1</td>\n",
       "      <td>0</td>\n",
       "      <td>0</td>\n",
       "      <td>1</td>\n",
       "      <td>1</td>\n",
       "      <td>300.0</td>\n",
       "      <td>750</td>\n",
       "    </tr>\n",
       "    <tr>\n",
       "      <th>3</th>\n",
       "      <td>Data Scientist</td>\n",
       "      <td>$56K-$97K (Glassdoor est.)</td>\n",
       "      <td>*Organization and Job ID**\\nJob ID: 310709\\n\\n...</td>\n",
       "      <td>3.8</td>\n",
       "      <td>PNNL\\n</td>\n",
       "      <td>Richland, WA</td>\n",
       "      <td>Richland, WA</td>\n",
       "      <td>1001 to 5000 employees</td>\n",
       "      <td>1965</td>\n",
       "      <td>Other</td>\n",
       "      <td>...</td>\n",
       "      <td>WA</td>\n",
       "      <td>1</td>\n",
       "      <td>57</td>\n",
       "      <td>1</td>\n",
       "      <td>0</td>\n",
       "      <td>0</td>\n",
       "      <td>0</td>\n",
       "      <td>0</td>\n",
       "      <td>750.0</td>\n",
       "      <td>3000</td>\n",
       "    </tr>\n",
       "    <tr>\n",
       "      <th>4</th>\n",
       "      <td>Data Scientist</td>\n",
       "      <td>$86K-$143K (Glassdoor est.)</td>\n",
       "      <td>Data Scientist\\nAffinity Solutions / Marketing...</td>\n",
       "      <td>2.9</td>\n",
       "      <td>Affinity Solutions\\n</td>\n",
       "      <td>New York, NY</td>\n",
       "      <td>New York, NY</td>\n",
       "      <td>51 to 200 employees</td>\n",
       "      <td>1998</td>\n",
       "      <td>Private</td>\n",
       "      <td>...</td>\n",
       "      <td>NY</td>\n",
       "      <td>1</td>\n",
       "      <td>24</td>\n",
       "      <td>1</td>\n",
       "      <td>0</td>\n",
       "      <td>0</td>\n",
       "      <td>0</td>\n",
       "      <td>1</td>\n",
       "      <td>1.0</td>\n",
       "      <td>125</td>\n",
       "    </tr>\n",
       "    <tr>\n",
       "      <th>...</th>\n",
       "      <td>...</td>\n",
       "      <td>...</td>\n",
       "      <td>...</td>\n",
       "      <td>...</td>\n",
       "      <td>...</td>\n",
       "      <td>...</td>\n",
       "      <td>...</td>\n",
       "      <td>...</td>\n",
       "      <td>...</td>\n",
       "      <td>...</td>\n",
       "      <td>...</td>\n",
       "      <td>...</td>\n",
       "      <td>...</td>\n",
       "      <td>...</td>\n",
       "      <td>...</td>\n",
       "      <td>...</td>\n",
       "      <td>...</td>\n",
       "      <td>...</td>\n",
       "      <td>...</td>\n",
       "      <td>...</td>\n",
       "      <td>...</td>\n",
       "    </tr>\n",
       "    <tr>\n",
       "      <th>737</th>\n",
       "      <td>Sr Scientist, Immuno-Oncology - Oncology</td>\n",
       "      <td>$58K-$111K (Glassdoor est.)</td>\n",
       "      <td>Site Name: USA - Massachusetts - Cambridge\\nPo...</td>\n",
       "      <td>3.9</td>\n",
       "      <td>GSK\\n</td>\n",
       "      <td>Cambridge, MA</td>\n",
       "      <td>Brentford, United Kingdom</td>\n",
       "      <td>10000+ employees</td>\n",
       "      <td>1830</td>\n",
       "      <td>Public</td>\n",
       "      <td>...</td>\n",
       "      <td>MA</td>\n",
       "      <td>0</td>\n",
       "      <td>192</td>\n",
       "      <td>0</td>\n",
       "      <td>0</td>\n",
       "      <td>1</td>\n",
       "      <td>0</td>\n",
       "      <td>0</td>\n",
       "      <td>10000.0</td>\n",
       "      <td>10000</td>\n",
       "    </tr>\n",
       "    <tr>\n",
       "      <th>738</th>\n",
       "      <td>Senior Data Engineer</td>\n",
       "      <td>$72K-$133K (Glassdoor est.)</td>\n",
       "      <td>THE CHALLENGE\\nEventbrite has a world-class da...</td>\n",
       "      <td>4.4</td>\n",
       "      <td>Eventbrite\\n</td>\n",
       "      <td>Nashville, TN</td>\n",
       "      <td>San Francisco, CA</td>\n",
       "      <td>1001 to 5000 employees</td>\n",
       "      <td>2006</td>\n",
       "      <td>Public</td>\n",
       "      <td>...</td>\n",
       "      <td>TN</td>\n",
       "      <td>0</td>\n",
       "      <td>16</td>\n",
       "      <td>1</td>\n",
       "      <td>0</td>\n",
       "      <td>1</td>\n",
       "      <td>1</td>\n",
       "      <td>0</td>\n",
       "      <td>300.0</td>\n",
       "      <td>3000</td>\n",
       "    </tr>\n",
       "    <tr>\n",
       "      <th>739</th>\n",
       "      <td>Project Scientist - Auton Lab, Robotics Institute</td>\n",
       "      <td>$56K-$91K (Glassdoor est.)</td>\n",
       "      <td>The Auton Lab at Carnegie Mellon University is...</td>\n",
       "      <td>2.6</td>\n",
       "      <td>Software Engineering Institute\\n</td>\n",
       "      <td>Pittsburgh, PA</td>\n",
       "      <td>Pittsburgh, PA</td>\n",
       "      <td>501 to 1000 employees</td>\n",
       "      <td>1984</td>\n",
       "      <td>Other</td>\n",
       "      <td>...</td>\n",
       "      <td>PA</td>\n",
       "      <td>1</td>\n",
       "      <td>38</td>\n",
       "      <td>0</td>\n",
       "      <td>0</td>\n",
       "      <td>0</td>\n",
       "      <td>0</td>\n",
       "      <td>1</td>\n",
       "      <td>1.0</td>\n",
       "      <td>750</td>\n",
       "    </tr>\n",
       "    <tr>\n",
       "      <th>740</th>\n",
       "      <td>Data Science Manager</td>\n",
       "      <td>$95K-$160K (Glassdoor est.)</td>\n",
       "      <td>Data Science ManagerResponsibilities:\\n\\nOvers...</td>\n",
       "      <td>3.2</td>\n",
       "      <td>Numeric, LLC\\n</td>\n",
       "      <td>Allentown, PA</td>\n",
       "      <td>Chadds Ford, PA</td>\n",
       "      <td>1 to 50 employees</td>\n",
       "      <td>-1</td>\n",
       "      <td>Private</td>\n",
       "      <td>...</td>\n",
       "      <td>PA</td>\n",
       "      <td>0</td>\n",
       "      <td>2023</td>\n",
       "      <td>0</td>\n",
       "      <td>0</td>\n",
       "      <td>0</td>\n",
       "      <td>0</td>\n",
       "      <td>1</td>\n",
       "      <td>7.5</td>\n",
       "      <td>25</td>\n",
       "    </tr>\n",
       "    <tr>\n",
       "      <th>741</th>\n",
       "      <td>Research Scientist – Security and Privacy</td>\n",
       "      <td>$61K-$126K (Glassdoor est.)</td>\n",
       "      <td>Returning Candidate? Log back in to the Career...</td>\n",
       "      <td>3.6</td>\n",
       "      <td>Riverside Research Institute\\n</td>\n",
       "      <td>Beavercreek, OH</td>\n",
       "      <td>Arlington, VA</td>\n",
       "      <td>501 to 1000 employees</td>\n",
       "      <td>1967</td>\n",
       "      <td>Other</td>\n",
       "      <td>...</td>\n",
       "      <td>OH</td>\n",
       "      <td>0</td>\n",
       "      <td>55</td>\n",
       "      <td>1</td>\n",
       "      <td>0</td>\n",
       "      <td>0</td>\n",
       "      <td>0</td>\n",
       "      <td>0</td>\n",
       "      <td>75.0</td>\n",
       "      <td>750</td>\n",
       "    </tr>\n",
       "  </tbody>\n",
       "</table>\n",
       "<p>742 rows × 25 columns</p>\n",
       "</div>"
      ],
      "text/plain": [
       "                                             Job Title  \\\n",
       "0                                       Data Scientist   \n",
       "1                            Healthcare Data Scientist   \n",
       "2                                       Data Scientist   \n",
       "3                                       Data Scientist   \n",
       "4                                       Data Scientist   \n",
       "..                                                 ...   \n",
       "737           Sr Scientist, Immuno-Oncology - Oncology   \n",
       "738                               Senior Data Engineer   \n",
       "739  Project Scientist - Auton Lab, Robotics Institute   \n",
       "740                               Data Science Manager   \n",
       "741          Research Scientist – Security and Privacy   \n",
       "\n",
       "                 Salary Estimate  \\\n",
       "0     $53K-$91K (Glassdoor est.)   \n",
       "1    $63K-$112K (Glassdoor est.)   \n",
       "2     $80K-$90K (Glassdoor est.)   \n",
       "3     $56K-$97K (Glassdoor est.)   \n",
       "4    $86K-$143K (Glassdoor est.)   \n",
       "..                           ...   \n",
       "737  $58K-$111K (Glassdoor est.)   \n",
       "738  $72K-$133K (Glassdoor est.)   \n",
       "739   $56K-$91K (Glassdoor est.)   \n",
       "740  $95K-$160K (Glassdoor est.)   \n",
       "741  $61K-$126K (Glassdoor est.)   \n",
       "\n",
       "                                       Job Description  Rating  \\\n",
       "0    Data Scientist\\nLocation: Albuquerque, NM\\nEdu...     3.8   \n",
       "1    What You Will Do:\\n\\nI. General Summary\\n\\nThe...     3.4   \n",
       "2    KnowBe4, Inc. is a high growth information sec...     4.8   \n",
       "3    *Organization and Job ID**\\nJob ID: 310709\\n\\n...     3.8   \n",
       "4    Data Scientist\\nAffinity Solutions / Marketing...     2.9   \n",
       "..                                                 ...     ...   \n",
       "737  Site Name: USA - Massachusetts - Cambridge\\nPo...     3.9   \n",
       "738  THE CHALLENGE\\nEventbrite has a world-class da...     4.4   \n",
       "739  The Auton Lab at Carnegie Mellon University is...     2.6   \n",
       "740  Data Science ManagerResponsibilities:\\n\\nOvers...     3.2   \n",
       "741  Returning Candidate? Log back in to the Career...     3.6   \n",
       "\n",
       "                                Company Name         Location  \\\n",
       "0                        Tecolote Research\\n  Albuquerque, NM   \n",
       "1    University of Maryland Medical System\\n    Linthicum, MD   \n",
       "2                                  KnowBe4\\n   Clearwater, FL   \n",
       "3                                     PNNL\\n     Richland, WA   \n",
       "4                       Affinity Solutions\\n     New York, NY   \n",
       "..                                       ...              ...   \n",
       "737                                    GSK\\n    Cambridge, MA   \n",
       "738                             Eventbrite\\n    Nashville, TN   \n",
       "739         Software Engineering Institute\\n   Pittsburgh, PA   \n",
       "740                           Numeric, LLC\\n    Allentown, PA   \n",
       "741           Riverside Research Institute\\n  Beavercreek, OH   \n",
       "\n",
       "                  Headquarters                    Size  Founded  \\\n",
       "0                   Goleta, CA   501 to 1000 employees     1973   \n",
       "1                Baltimore, MD        10000+ employees     1984   \n",
       "2               Clearwater, FL   501 to 1000 employees     2010   \n",
       "3                 Richland, WA  1001 to 5000 employees     1965   \n",
       "4                 New York, NY     51 to 200 employees     1998   \n",
       "..                         ...                     ...      ...   \n",
       "737  Brentford, United Kingdom        10000+ employees     1830   \n",
       "738          San Francisco, CA  1001 to 5000 employees     2006   \n",
       "739             Pittsburgh, PA   501 to 1000 employees     1984   \n",
       "740            Chadds Ford, PA       1 to 50 employees       -1   \n",
       "741              Arlington, VA   501 to 1000 employees     1967   \n",
       "\n",
       "    Type of ownership  ... job_state same_state Company_age (years) python  R  \\\n",
       "0             Private  ...        NM          0                  49      1  0   \n",
       "1               Other  ...        MD          0                  38      1  0   \n",
       "2             Private  ...        FL          1                  12      1  0   \n",
       "3               Other  ...        WA          1                  57      1  0   \n",
       "4             Private  ...        NY          1                  24      1  0   \n",
       "..                ...  ...       ...        ...                 ...    ... ..   \n",
       "737            Public  ...        MA          0                 192      0  0   \n",
       "738            Public  ...        TN          0                  16      1  0   \n",
       "739             Other  ...        PA          1                  38      0  0   \n",
       "740           Private  ...        PA          0                2023      0  0   \n",
       "741             Other  ...        OH          0                  55      1  0   \n",
       "\n",
       "    aws  spark  excel  Average_Revenue (million $)  Average_company_size  \n",
       "0     0      0      1                         75.0                   750  \n",
       "1     0      0      0                       3500.0                 10000  \n",
       "2     0      1      1                        300.0                   750  \n",
       "3     0      0      0                        750.0                  3000  \n",
       "4     0      0      1                          1.0                   125  \n",
       "..   ..    ...    ...                          ...                   ...  \n",
       "737   1      0      0                      10000.0                 10000  \n",
       "738   1      1      0                        300.0                  3000  \n",
       "739   0      0      1                          1.0                   750  \n",
       "740   0      0      1                          7.5                    25  \n",
       "741   0      0      0                         75.0                   750  \n",
       "\n",
       "[742 rows x 25 columns]"
      ]
     },
     "execution_count": 49,
     "metadata": {},
     "output_type": "execute_result"
    }
   ],
   "source": [
    "df"
   ]
  },
  {
   "cell_type": "code",
   "execution_count": 50,
   "id": "dab217bb",
   "metadata": {},
   "outputs": [],
   "source": [
    "df.to_csv('salary_data_(cleaned).csv', index = False)"
   ]
  }
 ],
 "metadata": {
  "kernelspec": {
   "display_name": "Python 3",
   "language": "python",
   "name": "python3"
  },
  "language_info": {
   "codemirror_mode": {
    "name": "ipython",
    "version": 3
   },
   "file_extension": ".py",
   "mimetype": "text/x-python",
   "name": "python",
   "nbconvert_exporter": "python",
   "pygments_lexer": "ipython3",
   "version": "3.8.8"
  }
 },
 "nbformat": 4,
 "nbformat_minor": 5
}
