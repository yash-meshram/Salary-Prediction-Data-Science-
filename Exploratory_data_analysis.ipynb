{
 "cells": [
  {
   "cell_type": "code",
   "execution_count": 1,
   "id": "c909df02",
   "metadata": {},
   "outputs": [],
   "source": [
    "import pandas as pd\n",
    "import matplotlib.pyplot as plt\n",
    "%matplotlib inline\n",
    "import seaborn as sns\n",
    "import numpy as np"
   ]
  },
  {
   "cell_type": "code",
   "execution_count": 38,
   "id": "c75642ea",
   "metadata": {},
   "outputs": [],
   "source": [
    "plt.style.use('default')\n",
    "plt.rcParams[\"figure.figsize\"] = (10, 6)"
   ]
  },
  {
   "cell_type": "code",
   "execution_count": 3,
   "id": "885693e5",
   "metadata": {},
   "outputs": [
    {
     "data": {
      "text/html": [
       "<div>\n",
       "<style scoped>\n",
       "    .dataframe tbody tr th:only-of-type {\n",
       "        vertical-align: middle;\n",
       "    }\n",
       "\n",
       "    .dataframe tbody tr th {\n",
       "        vertical-align: top;\n",
       "    }\n",
       "\n",
       "    .dataframe thead th {\n",
       "        text-align: right;\n",
       "    }\n",
       "</style>\n",
       "<table border=\"1\" class=\"dataframe\">\n",
       "  <thead>\n",
       "    <tr style=\"text-align: right;\">\n",
       "      <th></th>\n",
       "      <th>Job Title</th>\n",
       "      <th>Salary Estimate</th>\n",
       "      <th>Job Description</th>\n",
       "      <th>Rating</th>\n",
       "      <th>Company Name</th>\n",
       "      <th>Location</th>\n",
       "      <th>Headquarters</th>\n",
       "      <th>Size</th>\n",
       "      <th>Founded</th>\n",
       "      <th>Type of ownership</th>\n",
       "      <th>...</th>\n",
       "      <th>job_state</th>\n",
       "      <th>same_state</th>\n",
       "      <th>Company_age (years)</th>\n",
       "      <th>python</th>\n",
       "      <th>R</th>\n",
       "      <th>aws</th>\n",
       "      <th>spark</th>\n",
       "      <th>excel</th>\n",
       "      <th>Average_Revenue (million $)</th>\n",
       "      <th>Average_company_size</th>\n",
       "    </tr>\n",
       "  </thead>\n",
       "  <tbody>\n",
       "    <tr>\n",
       "      <th>0</th>\n",
       "      <td>Data Scientist</td>\n",
       "      <td>$53K-$91K (Glassdoor est.)</td>\n",
       "      <td>Data Scientist\\nLocation: Albuquerque, NM\\nEdu...</td>\n",
       "      <td>3.8</td>\n",
       "      <td>Tecolote Research\\n</td>\n",
       "      <td>Albuquerque, NM</td>\n",
       "      <td>Goleta, CA</td>\n",
       "      <td>501 to 1000 employees</td>\n",
       "      <td>1973</td>\n",
       "      <td>Private</td>\n",
       "      <td>...</td>\n",
       "      <td>NM</td>\n",
       "      <td>0</td>\n",
       "      <td>49</td>\n",
       "      <td>1</td>\n",
       "      <td>0</td>\n",
       "      <td>0</td>\n",
       "      <td>0</td>\n",
       "      <td>1</td>\n",
       "      <td>75.0</td>\n",
       "      <td>750</td>\n",
       "    </tr>\n",
       "    <tr>\n",
       "      <th>1</th>\n",
       "      <td>Healthcare Data Scientist</td>\n",
       "      <td>$63K-$112K (Glassdoor est.)</td>\n",
       "      <td>What You Will Do:\\n\\nI. General Summary\\n\\nThe...</td>\n",
       "      <td>3.4</td>\n",
       "      <td>University of Maryland Medical System\\n</td>\n",
       "      <td>Linthicum, MD</td>\n",
       "      <td>Baltimore, MD</td>\n",
       "      <td>10000+ employees</td>\n",
       "      <td>1984</td>\n",
       "      <td>Other</td>\n",
       "      <td>...</td>\n",
       "      <td>MD</td>\n",
       "      <td>0</td>\n",
       "      <td>38</td>\n",
       "      <td>1</td>\n",
       "      <td>0</td>\n",
       "      <td>0</td>\n",
       "      <td>0</td>\n",
       "      <td>0</td>\n",
       "      <td>3500.0</td>\n",
       "      <td>10000</td>\n",
       "    </tr>\n",
       "    <tr>\n",
       "      <th>2</th>\n",
       "      <td>Data Scientist</td>\n",
       "      <td>$80K-$90K (Glassdoor est.)</td>\n",
       "      <td>KnowBe4, Inc. is a high growth information sec...</td>\n",
       "      <td>4.8</td>\n",
       "      <td>KnowBe4\\n</td>\n",
       "      <td>Clearwater, FL</td>\n",
       "      <td>Clearwater, FL</td>\n",
       "      <td>501 to 1000 employees</td>\n",
       "      <td>2010</td>\n",
       "      <td>Private</td>\n",
       "      <td>...</td>\n",
       "      <td>FL</td>\n",
       "      <td>1</td>\n",
       "      <td>12</td>\n",
       "      <td>1</td>\n",
       "      <td>0</td>\n",
       "      <td>0</td>\n",
       "      <td>1</td>\n",
       "      <td>1</td>\n",
       "      <td>300.0</td>\n",
       "      <td>750</td>\n",
       "    </tr>\n",
       "    <tr>\n",
       "      <th>3</th>\n",
       "      <td>Data Scientist</td>\n",
       "      <td>$56K-$97K (Glassdoor est.)</td>\n",
       "      <td>*Organization and Job ID**\\nJob ID: 310709\\n\\n...</td>\n",
       "      <td>3.8</td>\n",
       "      <td>PNNL\\n</td>\n",
       "      <td>Richland, WA</td>\n",
       "      <td>Richland, WA</td>\n",
       "      <td>1001 to 5000 employees</td>\n",
       "      <td>1965</td>\n",
       "      <td>Other</td>\n",
       "      <td>...</td>\n",
       "      <td>WA</td>\n",
       "      <td>1</td>\n",
       "      <td>57</td>\n",
       "      <td>1</td>\n",
       "      <td>0</td>\n",
       "      <td>0</td>\n",
       "      <td>0</td>\n",
       "      <td>0</td>\n",
       "      <td>750.0</td>\n",
       "      <td>3000</td>\n",
       "    </tr>\n",
       "    <tr>\n",
       "      <th>4</th>\n",
       "      <td>Data Scientist</td>\n",
       "      <td>$86K-$143K (Glassdoor est.)</td>\n",
       "      <td>Data Scientist\\nAffinity Solutions / Marketing...</td>\n",
       "      <td>2.9</td>\n",
       "      <td>Affinity Solutions\\n</td>\n",
       "      <td>New York, NY</td>\n",
       "      <td>New York, NY</td>\n",
       "      <td>51 to 200 employees</td>\n",
       "      <td>1998</td>\n",
       "      <td>Private</td>\n",
       "      <td>...</td>\n",
       "      <td>NY</td>\n",
       "      <td>1</td>\n",
       "      <td>24</td>\n",
       "      <td>1</td>\n",
       "      <td>0</td>\n",
       "      <td>0</td>\n",
       "      <td>0</td>\n",
       "      <td>1</td>\n",
       "      <td>1.0</td>\n",
       "      <td>125</td>\n",
       "    </tr>\n",
       "  </tbody>\n",
       "</table>\n",
       "<p>5 rows × 25 columns</p>\n",
       "</div>"
      ],
      "text/plain": [
       "                   Job Title              Salary Estimate  \\\n",
       "0             Data Scientist   $53K-$91K (Glassdoor est.)   \n",
       "1  Healthcare Data Scientist  $63K-$112K (Glassdoor est.)   \n",
       "2             Data Scientist   $80K-$90K (Glassdoor est.)   \n",
       "3             Data Scientist   $56K-$97K (Glassdoor est.)   \n",
       "4             Data Scientist  $86K-$143K (Glassdoor est.)   \n",
       "\n",
       "                                     Job Description  Rating  \\\n",
       "0  Data Scientist\\nLocation: Albuquerque, NM\\nEdu...     3.8   \n",
       "1  What You Will Do:\\n\\nI. General Summary\\n\\nThe...     3.4   \n",
       "2  KnowBe4, Inc. is a high growth information sec...     4.8   \n",
       "3  *Organization and Job ID**\\nJob ID: 310709\\n\\n...     3.8   \n",
       "4  Data Scientist\\nAffinity Solutions / Marketing...     2.9   \n",
       "\n",
       "                              Company Name         Location    Headquarters  \\\n",
       "0                      Tecolote Research\\n  Albuquerque, NM      Goleta, CA   \n",
       "1  University of Maryland Medical System\\n    Linthicum, MD   Baltimore, MD   \n",
       "2                                KnowBe4\\n   Clearwater, FL  Clearwater, FL   \n",
       "3                                   PNNL\\n     Richland, WA    Richland, WA   \n",
       "4                     Affinity Solutions\\n     New York, NY    New York, NY   \n",
       "\n",
       "                     Size  Founded Type of ownership  ... job_state  \\\n",
       "0   501 to 1000 employees     1973           Private  ...        NM   \n",
       "1        10000+ employees     1984             Other  ...        MD   \n",
       "2   501 to 1000 employees     2010           Private  ...        FL   \n",
       "3  1001 to 5000 employees     1965             Other  ...        WA   \n",
       "4     51 to 200 employees     1998           Private  ...        NY   \n",
       "\n",
       "  same_state Company_age (years) python  R aws  spark  excel  \\\n",
       "0          0                  49      1  0   0      0      1   \n",
       "1          0                  38      1  0   0      0      0   \n",
       "2          1                  12      1  0   0      1      1   \n",
       "3          1                  57      1  0   0      0      0   \n",
       "4          1                  24      1  0   0      0      1   \n",
       "\n",
       "   Average_Revenue (million $)  Average_company_size  \n",
       "0                         75.0                   750  \n",
       "1                       3500.0                 10000  \n",
       "2                        300.0                   750  \n",
       "3                        750.0                  3000  \n",
       "4                          1.0                   125  \n",
       "\n",
       "[5 rows x 25 columns]"
      ]
     },
     "execution_count": 3,
     "metadata": {},
     "output_type": "execute_result"
    }
   ],
   "source": [
    "df = pd.read_csv('salary_data_(cleaned).csv')\n",
    "df.head()"
   ]
  },
  {
   "cell_type": "code",
   "execution_count": 4,
   "id": "172bb754",
   "metadata": {},
   "outputs": [
    {
     "data": {
      "text/plain": [
       "Index(['Job Title', 'Salary Estimate', 'Job Description', 'Rating',\n",
       "       'Company Name', 'Location', 'Headquarters', 'Size', 'Founded',\n",
       "       'Type of ownership', 'Industry', 'Sector', 'Revenue', 'Competitors',\n",
       "       'Average_Salary (K$)', 'job_state', 'same_state', 'Company_age (years)',\n",
       "       'python', 'R', 'aws', 'spark', 'excel', 'Average_Revenue (million $)',\n",
       "       'Average_company_size'],\n",
       "      dtype='object')"
      ]
     },
     "execution_count": 4,
     "metadata": {},
     "output_type": "execute_result"
    }
   ],
   "source": [
    "df.columns"
   ]
  },
  {
   "cell_type": "code",
   "execution_count": 5,
   "id": "0ca09a1d",
   "metadata": {},
   "outputs": [],
   "source": [
    "def job_title_simplifier(job_title):\n",
    "    if 'data scientist' in job_title.lower():\n",
    "        return 'Data Scientist'\n",
    "    elif 'data engineer' in job_title.lower():\n",
    "        return 'Data Engineer'\n",
    "    elif 'analyst' in job_title.lower():\n",
    "        return 'Analyst'\n",
    "    elif 'machine learning' in job_title.lower():\n",
    "        return 'Machine Learning'\n",
    "    elif 'manager' in job_title.lower():\n",
    "        return 'Manager'\n",
    "    elif 'director' in job_title.lower():\n",
    "        return 'Director'\n",
    "    else:\n",
    "        return 'Other'"
   ]
  },
  {
   "cell_type": "code",
   "execution_count": 6,
   "id": "8d63aa33",
   "metadata": {},
   "outputs": [],
   "source": [
    "def seniority(job_title):\n",
    "    if 'sr' in job_title.lower() or 'sr.' in job_title.lower() or 'senior' in job_title.lower() or 'lead' in job_title.lower() or 'principal' in job_title.lower():\n",
    "        return 'Senior'\n",
    "    elif 'jr' in job_title.lower() or 'jr.' in job_title.lower():\n",
    "        return 'Junior'\n",
    "    else:\n",
    "        return 'NA'"
   ]
  },
  {
   "cell_type": "code",
   "execution_count": 7,
   "id": "dd05aa6a",
   "metadata": {},
   "outputs": [],
   "source": [
    "df['Job_title'] = df['Job Title'].apply(job_title_simplifier)"
   ]
  },
  {
   "cell_type": "code",
   "execution_count": 8,
   "id": "dc598b12",
   "metadata": {},
   "outputs": [
    {
     "data": {
      "text/plain": [
       "Data Scientist      279\n",
       "Other               184\n",
       "Data Engineer       119\n",
       "Analyst             102\n",
       "Manager              22\n",
       "Machine Learning     22\n",
       "Director             14\n",
       "Name: Job_title, dtype: int64"
      ]
     },
     "execution_count": 8,
     "metadata": {},
     "output_type": "execute_result"
    }
   ],
   "source": [
    "df['Job_title'].value_counts()"
   ]
  },
  {
   "cell_type": "code",
   "execution_count": 9,
   "id": "b95fe398",
   "metadata": {},
   "outputs": [],
   "source": [
    "df['seniority'] = df['Job Title'].apply(seniority)"
   ]
  },
  {
   "cell_type": "code",
   "execution_count": 10,
   "id": "06d033f4",
   "metadata": {},
   "outputs": [
    {
     "data": {
      "text/plain": [
       "NA        520\n",
       "Senior    220\n",
       "Junior      2\n",
       "Name: seniority, dtype: int64"
      ]
     },
     "execution_count": 10,
     "metadata": {},
     "output_type": "execute_result"
    }
   ],
   "source": [
    "df['seniority'].value_counts()"
   ]
  },
  {
   "cell_type": "code",
   "execution_count": 11,
   "id": "ce51c759",
   "metadata": {},
   "outputs": [],
   "source": [
    "df['job_state'] = df['job_state'].apply(lambda x: x.strip() if x.strip() != 'Los Angeles' else 'CA')"
   ]
  },
  {
   "cell_type": "code",
   "execution_count": 12,
   "id": "859691a8",
   "metadata": {},
   "outputs": [
    {
     "data": {
      "text/plain": [
       "CA    152\n",
       "MA    103\n",
       "NY     72\n",
       "VA     41\n",
       "IL     40\n",
       "MD     35\n",
       "PA     33\n",
       "TX     28\n",
       "WA     21\n",
       "NC     21\n",
       "NJ     17\n",
       "FL     16\n",
       "OH     14\n",
       "TN     13\n",
       "DC     11\n",
       "CO     11\n",
       "UT     10\n",
       "IN     10\n",
       "WI     10\n",
       "AZ      9\n",
       "MO      9\n",
       "AL      8\n",
       "KY      6\n",
       "DE      6\n",
       "GA      6\n",
       "MI      6\n",
       "IA      5\n",
       "CT      5\n",
       "LA      4\n",
       "NE      4\n",
       "OR      4\n",
       "NM      3\n",
       "KS      3\n",
       "ID      2\n",
       "MN      2\n",
       "RI      1\n",
       "SC      1\n",
       "Name: job_state, dtype: int64"
      ]
     },
     "execution_count": 12,
     "metadata": {},
     "output_type": "execute_result"
    }
   ],
   "source": [
    "df['job_state'].value_counts()"
   ]
  },
  {
   "cell_type": "code",
   "execution_count": 13,
   "id": "3f99f91e",
   "metadata": {},
   "outputs": [],
   "source": [
    "df['No. of Competitors'] = df['Competitors'].apply(lambda x: len(x.split(',')) if x != '-1' else 0)"
   ]
  },
  {
   "cell_type": "code",
   "execution_count": 14,
   "id": "8b220fa7",
   "metadata": {},
   "outputs": [],
   "source": [
    "df['dec_len'] = df['Job Description'].apply(lambda x: len(x))"
   ]
  },
  {
   "cell_type": "code",
   "execution_count": 15,
   "id": "e0cde1b8",
   "metadata": {},
   "outputs": [],
   "source": [
    "df['Company Name'] = df['Company Name'].apply(lambda x: x.replace('\\n', ''))"
   ]
  },
  {
   "cell_type": "code",
   "execution_count": 16,
   "id": "4ad774ba",
   "metadata": {},
   "outputs": [],
   "source": [
    "avg = round(np.average(df['Rating']), 1)\n",
    "df['Rating'] = df['Rating'].apply(lambda x: avg if x == -1 else x)"
   ]
  },
  {
   "cell_type": "code",
   "execution_count": 17,
   "id": "0a445394",
   "metadata": {
    "scrolled": true
   },
   "outputs": [
    {
     "data": {
      "text/html": [
       "<div>\n",
       "<style scoped>\n",
       "    .dataframe tbody tr th:only-of-type {\n",
       "        vertical-align: middle;\n",
       "    }\n",
       "\n",
       "    .dataframe tbody tr th {\n",
       "        vertical-align: top;\n",
       "    }\n",
       "\n",
       "    .dataframe thead th {\n",
       "        text-align: right;\n",
       "    }\n",
       "</style>\n",
       "<table border=\"1\" class=\"dataframe\">\n",
       "  <thead>\n",
       "    <tr style=\"text-align: right;\">\n",
       "      <th></th>\n",
       "      <th>Rating</th>\n",
       "      <th>Founded</th>\n",
       "      <th>Average_Salary (K$)</th>\n",
       "      <th>same_state</th>\n",
       "      <th>Company_age (years)</th>\n",
       "      <th>python</th>\n",
       "      <th>R</th>\n",
       "      <th>aws</th>\n",
       "      <th>spark</th>\n",
       "      <th>excel</th>\n",
       "      <th>Average_Revenue (million $)</th>\n",
       "      <th>Average_company_size</th>\n",
       "      <th>No. of Competitors</th>\n",
       "      <th>dec_len</th>\n",
       "    </tr>\n",
       "  </thead>\n",
       "  <tbody>\n",
       "    <tr>\n",
       "      <th>count</th>\n",
       "      <td>742.000000</td>\n",
       "      <td>742.000000</td>\n",
       "      <td>742.000000</td>\n",
       "      <td>742.000000</td>\n",
       "      <td>742.000000</td>\n",
       "      <td>742.000000</td>\n",
       "      <td>742.000000</td>\n",
       "      <td>742.000000</td>\n",
       "      <td>742.000000</td>\n",
       "      <td>742.000000</td>\n",
       "      <td>742.000000</td>\n",
       "      <td>742.000000</td>\n",
       "      <td>742.000000</td>\n",
       "      <td>742.000000</td>\n",
       "    </tr>\n",
       "    <tr>\n",
       "      <th>mean</th>\n",
       "      <td>3.687062</td>\n",
       "      <td>1837.154987</td>\n",
       "      <td>101.434636</td>\n",
       "      <td>0.557951</td>\n",
       "      <td>48.456873</td>\n",
       "      <td>0.528302</td>\n",
       "      <td>0.002695</td>\n",
       "      <td>0.237197</td>\n",
       "      <td>0.225067</td>\n",
       "      <td>0.522911</td>\n",
       "      <td>2270.788410</td>\n",
       "      <td>3360.047170</td>\n",
       "      <td>1.053908</td>\n",
       "      <td>3869.545822</td>\n",
       "    </tr>\n",
       "    <tr>\n",
       "      <th>std</th>\n",
       "      <td>0.566205</td>\n",
       "      <td>497.183763</td>\n",
       "      <td>37.546122</td>\n",
       "      <td>0.496965</td>\n",
       "      <td>53.900445</td>\n",
       "      <td>0.499535</td>\n",
       "      <td>0.051882</td>\n",
       "      <td>0.425651</td>\n",
       "      <td>0.417908</td>\n",
       "      <td>0.499812</td>\n",
       "      <td>3727.559113</td>\n",
       "      <td>3741.993606</td>\n",
       "      <td>1.384239</td>\n",
       "      <td>1521.495868</td>\n",
       "    </tr>\n",
       "    <tr>\n",
       "      <th>min</th>\n",
       "      <td>1.900000</td>\n",
       "      <td>-1.000000</td>\n",
       "      <td>15.500000</td>\n",
       "      <td>0.000000</td>\n",
       "      <td>-1.000000</td>\n",
       "      <td>0.000000</td>\n",
       "      <td>0.000000</td>\n",
       "      <td>0.000000</td>\n",
       "      <td>0.000000</td>\n",
       "      <td>0.000000</td>\n",
       "      <td>-1.000000</td>\n",
       "      <td>25.000000</td>\n",
       "      <td>0.000000</td>\n",
       "      <td>407.000000</td>\n",
       "    </tr>\n",
       "    <tr>\n",
       "      <th>25%</th>\n",
       "      <td>3.300000</td>\n",
       "      <td>1939.000000</td>\n",
       "      <td>73.500000</td>\n",
       "      <td>0.000000</td>\n",
       "      <td>13.000000</td>\n",
       "      <td>0.000000</td>\n",
       "      <td>0.000000</td>\n",
       "      <td>0.000000</td>\n",
       "      <td>0.000000</td>\n",
       "      <td>0.000000</td>\n",
       "      <td>1.000000</td>\n",
       "      <td>350.000000</td>\n",
       "      <td>0.000000</td>\n",
       "      <td>2801.000000</td>\n",
       "    </tr>\n",
       "    <tr>\n",
       "      <th>50%</th>\n",
       "      <td>3.700000</td>\n",
       "      <td>1988.000000</td>\n",
       "      <td>97.500000</td>\n",
       "      <td>1.000000</td>\n",
       "      <td>26.000000</td>\n",
       "      <td>1.000000</td>\n",
       "      <td>0.000000</td>\n",
       "      <td>0.000000</td>\n",
       "      <td>0.000000</td>\n",
       "      <td>1.000000</td>\n",
       "      <td>300.000000</td>\n",
       "      <td>750.000000</td>\n",
       "      <td>0.000000</td>\n",
       "      <td>3731.000000</td>\n",
       "    </tr>\n",
       "    <tr>\n",
       "      <th>75%</th>\n",
       "      <td>4.000000</td>\n",
       "      <td>2007.000000</td>\n",
       "      <td>122.500000</td>\n",
       "      <td>1.000000</td>\n",
       "      <td>61.000000</td>\n",
       "      <td>1.000000</td>\n",
       "      <td>0.000000</td>\n",
       "      <td>0.000000</td>\n",
       "      <td>0.000000</td>\n",
       "      <td>1.000000</td>\n",
       "      <td>1500.000000</td>\n",
       "      <td>7500.000000</td>\n",
       "      <td>3.000000</td>\n",
       "      <td>4740.000000</td>\n",
       "    </tr>\n",
       "    <tr>\n",
       "      <th>max</th>\n",
       "      <td>5.000000</td>\n",
       "      <td>2019.000000</td>\n",
       "      <td>254.000000</td>\n",
       "      <td>1.000000</td>\n",
       "      <td>278.000000</td>\n",
       "      <td>1.000000</td>\n",
       "      <td>1.000000</td>\n",
       "      <td>1.000000</td>\n",
       "      <td>1.000000</td>\n",
       "      <td>1.000000</td>\n",
       "      <td>10000.000000</td>\n",
       "      <td>10000.000000</td>\n",
       "      <td>4.000000</td>\n",
       "      <td>10051.000000</td>\n",
       "    </tr>\n",
       "  </tbody>\n",
       "</table>\n",
       "</div>"
      ],
      "text/plain": [
       "           Rating      Founded  Average_Salary (K$)  same_state  \\\n",
       "count  742.000000   742.000000           742.000000  742.000000   \n",
       "mean     3.687062  1837.154987           101.434636    0.557951   \n",
       "std      0.566205   497.183763            37.546122    0.496965   \n",
       "min      1.900000    -1.000000            15.500000    0.000000   \n",
       "25%      3.300000  1939.000000            73.500000    0.000000   \n",
       "50%      3.700000  1988.000000            97.500000    1.000000   \n",
       "75%      4.000000  2007.000000           122.500000    1.000000   \n",
       "max      5.000000  2019.000000           254.000000    1.000000   \n",
       "\n",
       "       Company_age (years)      python           R         aws       spark  \\\n",
       "count           742.000000  742.000000  742.000000  742.000000  742.000000   \n",
       "mean             48.456873    0.528302    0.002695    0.237197    0.225067   \n",
       "std              53.900445    0.499535    0.051882    0.425651    0.417908   \n",
       "min              -1.000000    0.000000    0.000000    0.000000    0.000000   \n",
       "25%              13.000000    0.000000    0.000000    0.000000    0.000000   \n",
       "50%              26.000000    1.000000    0.000000    0.000000    0.000000   \n",
       "75%              61.000000    1.000000    0.000000    0.000000    0.000000   \n",
       "max             278.000000    1.000000    1.000000    1.000000    1.000000   \n",
       "\n",
       "            excel  Average_Revenue (million $)  Average_company_size  \\\n",
       "count  742.000000                   742.000000            742.000000   \n",
       "mean     0.522911                  2270.788410           3360.047170   \n",
       "std      0.499812                  3727.559113           3741.993606   \n",
       "min      0.000000                    -1.000000             25.000000   \n",
       "25%      0.000000                     1.000000            350.000000   \n",
       "50%      1.000000                   300.000000            750.000000   \n",
       "75%      1.000000                  1500.000000           7500.000000   \n",
       "max      1.000000                 10000.000000          10000.000000   \n",
       "\n",
       "       No. of Competitors       dec_len  \n",
       "count          742.000000    742.000000  \n",
       "mean             1.053908   3869.545822  \n",
       "std              1.384239   1521.495868  \n",
       "min              0.000000    407.000000  \n",
       "25%              0.000000   2801.000000  \n",
       "50%              0.000000   3731.000000  \n",
       "75%              3.000000   4740.000000  \n",
       "max              4.000000  10051.000000  "
      ]
     },
     "execution_count": 17,
     "metadata": {},
     "output_type": "execute_result"
    }
   ],
   "source": [
    "df.describe()"
   ]
  },
  {
   "cell_type": "code",
   "execution_count": 18,
   "id": "ace50268",
   "metadata": {},
   "outputs": [
    {
     "data": {
      "text/plain": [
       "Job Title                       object\n",
       "Salary Estimate                 object\n",
       "Job Description                 object\n",
       "Rating                         float64\n",
       "Company Name                    object\n",
       "Location                        object\n",
       "Headquarters                    object\n",
       "Size                            object\n",
       "Founded                          int64\n",
       "Type of ownership               object\n",
       "Industry                        object\n",
       "Sector                          object\n",
       "Revenue                         object\n",
       "Competitors                     object\n",
       "Average_Salary (K$)            float64\n",
       "job_state                       object\n",
       "same_state                       int64\n",
       "Company_age (years)              int64\n",
       "python                           int64\n",
       "R                                int64\n",
       "aws                              int64\n",
       "spark                            int64\n",
       "excel                            int64\n",
       "Average_Revenue (million $)    float64\n",
       "Average_company_size             int64\n",
       "Job_title                       object\n",
       "seniority                       object\n",
       "No. of Competitors               int64\n",
       "dec_len                          int64\n",
       "dtype: object"
      ]
     },
     "execution_count": 18,
     "metadata": {},
     "output_type": "execute_result"
    }
   ],
   "source": [
    "df.dtypes"
   ]
  },
  {
   "cell_type": "code",
   "execution_count": 19,
   "id": "9e96f0c1",
   "metadata": {},
   "outputs": [
    {
     "data": {
      "image/png": "[encoded data removed]",
      "text/plain": [
       "<Figure size 800x400 with 1 Axes>"
      ]
     },
     "metadata": {},
     "output_type": "display_data"
    }
   ],
   "source": [
    "sns.displot(df.Rating, kde = True)\n",
    "plt.gcf().set_size_inches(8,4)"
   ]
  },
  {
   "cell_type": "code",
   "execution_count": 20,
   "id": "afd8623b",
   "metadata": {},
   "outputs": [
    {
     "data": {
      "image/png": "[encoded data removed]",
      "text/plain": [
       "<Figure size 800x400 with 1 Axes>"
      ]
     },
     "metadata": {},
     "output_type": "display_data"
    }
   ],
   "source": [
    "sns.displot(df['Average_Salary (K$)'], kde = True)\n",
    "plt.gcf().set_size_inches(8,4)"
   ]
  },
  {
   "cell_type": "code",
   "execution_count": 21,
   "id": "4a65b468",
   "metadata": {},
   "outputs": [
    {
     "data": {
      "image/png": "[encoded data removed]",
      "text/plain": [
       "<Figure size 800x400 with 1 Axes>"
      ]
     },
     "metadata": {},
     "output_type": "display_data"
    }
   ],
   "source": [
    "sns.displot(df['Company_age (years)'], kde = True)\n",
    "plt.gcf().set_size_inches(8,4)"
   ]
  },
  {
   "cell_type": "code",
   "execution_count": 44,
   "id": "594ed900",
   "metadata": {},
   "outputs": [
    {
     "data": {
      "text/plain": [
       "<AxesSubplot:>"
      ]
     },
     "execution_count": 44,
     "metadata": {},
     "output_type": "execute_result"
    },
    {
     "data": {
      "image/png": "[encoded data removed]",
      "text/plain": [
       "<Figure size 1000x600 with 1 Axes>"
      ]
     },
     "metadata": {},
     "output_type": "display_data"
    }
   ],
   "source": [
    "sns.boxplot(data = df[['Company_age (years)','Average_Salary (K$)','Rating']],\n",
    "            showmeans = True,\n",
    "            meanprops={\"marker\":\"o\",\n",
    "                       \"markerfacecolor\":\"white\", \n",
    "                       \"markeredgecolor\":\"black\",\n",
    "                      \"markersize\":\"10\"})"
   ]
  },
  {
   "cell_type": "code",
   "execution_count": 43,
   "id": "6b11995e",
   "metadata": {},
   "outputs": [
    {
     "data": {
      "text/plain": [
       "<AxesSubplot:>"
      ]
     },
     "execution_count": 43,
     "metadata": {},
     "output_type": "execute_result"
    },
    {
     "data": {
      "image/png": "[encoded data removed]",
      "text/plain": [
       "<Figure size 1000x600 with 1 Axes>"
      ]
     },
     "metadata": {},
     "output_type": "display_data"
    }
   ],
   "source": [
    "sns.boxplot(data = df['Rating'],\n",
    "            showmeans = True,\n",
    "            meanprops={\"marker\":\"o\",\n",
    "                       \"markerfacecolor\":\"white\", \n",
    "                       \"markeredgecolor\":\"black\",\n",
    "                      \"markersize\":\"10\"})"
   ]
  },
  {
   "cell_type": "code",
   "execution_count": null,
   "id": "44e42a4e",
   "metadata": {},
   "outputs": [],
   "source": []
  }
 ],
 "metadata": {
  "kernelspec": {
   "display_name": "Python 3",
   "language": "python",
   "name": "python3"
  },
  "language_info": {
   "codemirror_mode": {
    "name": "ipython",
    "version": 3
   },
   "file_extension": ".py",
   "mimetype": "text/x-python",
   "name": "python",
   "nbconvert_exporter": "python",
   "pygments_lexer": "ipython3",
   "version": "3.8.8"
  }
 },
 "nbformat": 4,
 "nbformat_minor": 5
}
